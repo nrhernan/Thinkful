{
 "cells": [
  {
   "cell_type": "code",
   "execution_count": 1,
   "metadata": {},
   "outputs": [],
   "source": [
    "import numpy as np\n",
    "import pandas as pd\n",
    "import matplotlib.pyplot as plt\n",
    "import seaborn as sns\n",
    "\n",
    "from sklearn import ensemble"
   ]
  },
  {
   "cell_type": "code",
   "execution_count": 2,
   "metadata": {},
   "outputs": [],
   "source": [
    "def safe_drop(df, cols):\n",
    "    try:\n",
    "        if type(cols)==str:\n",
    "            cols = [cols]\n",
    "        fld_drop = df.columns[df.columns.isin(cols)]\n",
    "        results = df.copy()\n",
    "        results.drop(fld_drop, inplace=True, axis=1)\n",
    "    except Exception as e:\n",
    "        print(e)\n",
    "        results=df\n",
    "    finally:\n",
    "        return(results)"
   ]
  },
  {
   "cell_type": "markdown",
   "metadata": {},
   "source": [
    "# How to play around with improving this\n",
    "1. Increase iterations\n",
    "1. Decrease iterations\n",
    "1. Change loss function from deviance to exponential\n",
    "1. Increase tree depth\n",
    "1. Drop...Germany? The country that only has 27 entries."
   ]
  },
  {
   "cell_type": "code",
   "execution_count": 6,
   "metadata": {},
   "outputs": [],
   "source": [
    "df = pd.read_csv((\n",
    "    \"https://raw.githubusercontent.com/Thinkful-Ed/data-201-resources/\"\n",
    "    \"master/ESS_practice_data/ESSdata_Thinkful.csv\"))"
   ]
  },
  {
   "cell_type": "code",
   "execution_count": 7,
   "metadata": {},
   "outputs": [],
   "source": [
    "md = pd.DataFrame({'field': df.columns,\n",
    "                   'd_type': df.dtypes,\n",
    "                   'nulls': df.apply(lambda x: x.isna().sum())\n",
    "                  })"
   ]
  },
  {
   "cell_type": "code",
   "execution_count": 27,
   "metadata": {},
   "outputs": [],
   "source": [
    "results_predictions = pd.DataFrame(columns=['actual', 'prediction', 'model_no'])\n",
    "result_summ = pd.DataFrame(columns=['acc', 'type1', 'type2', 'time', 'model_no'])\n",
    "cnt = 1"
   ]
  },
  {
   "cell_type": "markdown",
   "metadata": {},
   "source": [
    "# Model 1: Baseline shown in example"
   ]
  },
  {
   "cell_type": "code",
   "execution_count": 16,
   "metadata": {},
   "outputs": [],
   "source": [
    "X = df.dropna()\n",
    "y = X.partner - 1\n",
    "\n",
    "X = safe_drop(X, ['idno', 'partner'])\n",
    "X = pd.get_dummies(X)"
   ]
  },
  {
   "cell_type": "code",
   "execution_count": 17,
   "metadata": {},
   "outputs": [],
   "source": [
    "from sklearn.model_selection import cross_val_predict as cvp\n",
    "from time import perf_counter\n",
    "\n",
    "# We'll make 500 iterations, use 2-deep trees, and set our loss function.\n",
    "params = {'n_estimators': 500,\n",
    "          'max_depth': 2,\n",
    "          'loss': 'deviance'}\n",
    "\n",
    "# Initialize and fit the model.\n",
    "start = perf_counter()\n",
    "clf = ensemble.GradientBoostingClassifier(**params)\n",
    "end = perf_counter()\n",
    "\n",
    "predictions = cvp(clf, X, y, cv=3)"
   ]
  },
  {
   "cell_type": "code",
   "execution_count": 18,
   "metadata": {},
   "outputs": [],
   "source": [
    "try:\n",
    "    results_predictions.drop(results_predictions.loc[results_predictions.model_no==1].index, inplace=True)\n",
    "except Exception as e:\n",
    "    print(e)\n",
    "results_predictions = pd.concat([results_predictions, pd.DataFrame({'actual': y, 'prediction': predictions, 'model_no': cnt})])"
   ]
  },
  {
   "cell_type": "code",
   "execution_count": 21,
   "metadata": {},
   "outputs": [],
   "source": [
    "def compute_acc(actual, predict):\n",
    "    tab = pd.crosstab(actual, predict, margins=True)\n",
    "    results = {'acc': (tab.loc[0, 0] + tab.loc[1, 1])/tab.loc['All', 'All'],\n",
    "               'type1': tab.loc[0, 1]/tab.loc['All', 'All'],\n",
    "               'type2': tab.loc[1,0]/tab.loc['All', 'All']}\n",
    "    return(results)"
   ]
  },
  {
   "cell_type": "code",
   "execution_count": 34,
   "metadata": {},
   "outputs": [
    {
     "data": {
      "text/plain": [
       "('acc', 'type1', 'type2', 'time', 'model_no')"
      ]
     },
     "execution_count": 34,
     "metadata": {},
     "output_type": "execute_result"
    }
   ],
   "source": [
    "summ = compute_acc(y, predictions)\n",
    "summ['time'] = end-start\n",
    "summ['model_no'] = cnt\n",
    "\n"
   ]
  },
  {
   "cell_type": "code",
   "execution_count": 47,
   "metadata": {},
   "outputs": [
    {
     "data": {
      "text/html": [
       "<div>\n",
       "<style scoped>\n",
       "    .dataframe tbody tr th:only-of-type {\n",
       "        vertical-align: middle;\n",
       "    }\n",
       "\n",
       "    .dataframe tbody tr th {\n",
       "        vertical-align: top;\n",
       "    }\n",
       "\n",
       "    .dataframe thead th {\n",
       "        text-align: right;\n",
       "    }\n",
       "</style>\n",
       "<table border=\"1\" class=\"dataframe\">\n",
       "  <thead>\n",
       "    <tr style=\"text-align: right;\">\n",
       "      <th></th>\n",
       "      <th>acc</th>\n",
       "      <th>type1</th>\n",
       "      <th>type2</th>\n",
       "      <th>time</th>\n",
       "      <th>model_no</th>\n",
       "    </tr>\n",
       "  </thead>\n",
       "  <tbody>\n",
       "    <tr>\n",
       "      <th>0</th>\n",
       "      <td>0.685651</td>\n",
       "      <td>0.119676</td>\n",
       "      <td>0.194673</td>\n",
       "      <td>0.000055</td>\n",
       "      <td>1.0</td>\n",
       "    </tr>\n",
       "  </tbody>\n",
       "</table>\n",
       "</div>"
      ],
      "text/plain": [
       "        acc     type1     type2      time  model_no\n",
       "0  0.685651  0.119676  0.194673  0.000055       1.0"
      ]
     },
     "execution_count": 47,
     "metadata": {},
     "output_type": "execute_result"
    }
   ],
   "source": [
    "try:\n",
    "    result_summ.drop(result_summ.loc[result_summ.model_no==cnt].index, axis=0, inplace=True)\n",
    "except Exception as e:\n",
    "    print(e)\n",
    "\n",
    "result_summ = result_summ.append(summ, ignore_index=True)\n",
    "result_summ"
   ]
  },
  {
   "cell_type": "code",
   "execution_count": 49,
   "metadata": {},
   "outputs": [
    {
     "name": "stdout",
     "output_type": "stream",
     "text": [
      "Overall accuracy: 0.686\n",
      "Type I error: 0.120\n",
      "Type II error: 0.195\n",
      "Time elapsed: 5.497400002241193e-05 seconds\n"
     ]
    }
   ],
   "source": [
    "print('Overall accuracy: {0:.3f}'.format(summ['acc']))\n",
    "print('Type I error: {0:.3f}'.format(summ['type1']))\n",
    "print('Type II error: {0:.3f}'.format(summ['type2']))\n",
    "print('Time elapsed: {0} seconds'.format(summ['time']))"
   ]
  },
  {
   "cell_type": "markdown",
   "metadata": {},
   "source": [
    "Why are my accuracy results different from the results in the guided example?"
   ]
  },
  {
   "cell_type": "markdown",
   "metadata": {},
   "source": [
    "## Feature importance"
   ]
  },
  {
   "cell_type": "code",
   "execution_count": 50,
   "metadata": {},
   "outputs": [
    {
     "data": {
      "image/png": "[encoded data removed]",
      "text/plain": [
       "<Figure size 432x288 with 1 Axes>"
      ]
     },
     "metadata": {
      "needs_background": "light"
     },
     "output_type": "display_data"
    }
   ],
   "source": [
    "from sklearn.model_selection import train_test_split as tts\n",
    "\n",
    "X_train, X_test, y_train, y_test = tts(X, y, test_size=0.33)\n",
    "\n",
    "clf.fit(X_train, y_train)\n",
    "\n",
    "feature_importance = clf.feature_importances_\n",
    "\n",
    "# Make importances relative to max importance.\n",
    "feature_importance = 100.0 * (feature_importance / feature_importance.max())\n",
    "sorted_idx = np.argsort(feature_importance)\n",
    "pos = np.arange(sorted_idx.shape[0]) + .5\n",
    "plt.subplot(1, 2, 2)\n",
    "plt.barh(pos, feature_importance[sorted_idx], align='center')\n",
    "plt.yticks(pos, X.columns[sorted_idx])\n",
    "plt.xlabel('Relative Importance')\n",
    "plt.title('Variable Importance')\n",
    "plt.show()"
   ]
  },
  {
   "cell_type": "markdown",
   "metadata": {},
   "source": [
    "# Model 2: Dropping Germany\n",
    "Hypothesis: Removing Germany will improve model accuracy. Germany only has 27 records in the final data set and unbalanced datasets can be problemmatic."
   ]
  },
  {
   "cell_type": "code",
   "execution_count": 51,
   "metadata": {},
   "outputs": [],
   "source": [
    "cnt += 1"
   ]
  },
  {
   "cell_type": "code",
   "execution_count": 52,
   "metadata": {},
   "outputs": [],
   "source": [
    "X = df.dropna()\n",
    "X = X.loc[X.cntry!='DE']\n",
    "y = X.partner - 1\n",
    "\n",
    "X = X.drop(['idno', 'partner'], axis=1)\n",
    "X = pd.get_dummies(X)"
   ]
  },
  {
   "cell_type": "code",
   "execution_count": 54,
   "metadata": {},
   "outputs": [],
   "source": [
    "from sklearn.model_selection import cross_val_predict as cvp\n",
    "\n",
    "# We'll make 500 iterations, use 2-deep trees, and set our loss function.\n",
    "params = {'n_estimators': 500,\n",
    "          'max_depth': 2,\n",
    "          'loss': 'deviance'}\n",
    "\n",
    "# Initialize and fit the model.\n",
    "start = perf_counter()\n",
    "clf = ensemble.GradientBoostingClassifier(**params)\n",
    "end = perf_counter()\n",
    "\n",
    "predictions = cvp(clf, X, y, cv=3)"
   ]
  },
  {
   "cell_type": "code",
   "execution_count": 55,
   "metadata": {},
   "outputs": [],
   "source": [
    "summ = compute_acc(y, predictions)\n",
    "summ['time'] = end-start\n",
    "summ['model_no'] = cnt"
   ]
  },
  {
   "cell_type": "code",
   "execution_count": 65,
   "metadata": {},
   "outputs": [
    {
     "data": {
      "text/html": [
       "<div>\n",
       "<style scoped>\n",
       "    .dataframe tbody tr th:only-of-type {\n",
       "        vertical-align: middle;\n",
       "    }\n",
       "\n",
       "    .dataframe tbody tr th {\n",
       "        vertical-align: top;\n",
       "    }\n",
       "\n",
       "    .dataframe thead th {\n",
       "        text-align: right;\n",
       "    }\n",
       "</style>\n",
       "<table border=\"1\" class=\"dataframe\">\n",
       "  <thead>\n",
       "    <tr style=\"text-align: right;\">\n",
       "      <th></th>\n",
       "      <th>acc</th>\n",
       "      <th>type1</th>\n",
       "      <th>type2</th>\n",
       "      <th>time</th>\n",
       "      <th>model_no</th>\n",
       "    </tr>\n",
       "  </thead>\n",
       "  <tbody>\n",
       "    <tr>\n",
       "      <th>0</th>\n",
       "      <td>0.685651</td>\n",
       "      <td>0.119676</td>\n",
       "      <td>0.194673</td>\n",
       "      <td>0.000055</td>\n",
       "      <td>1.0</td>\n",
       "    </tr>\n",
       "    <tr>\n",
       "      <th>1</th>\n",
       "      <td>0.682143</td>\n",
       "      <td>0.119828</td>\n",
       "      <td>0.198030</td>\n",
       "      <td>0.000087</td>\n",
       "      <td>2.0</td>\n",
       "    </tr>\n",
       "    <tr>\n",
       "      <th>2</th>\n",
       "      <td>0.679146</td>\n",
       "      <td>0.123236</td>\n",
       "      <td>0.197619</td>\n",
       "      <td>8.152791</td>\n",
       "      <td>3.0</td>\n",
       "    </tr>\n",
       "  </tbody>\n",
       "</table>\n",
       "</div>"
      ],
      "text/plain": [
       "        acc     type1     type2      time  model_no\n",
       "0  0.685651  0.119676  0.194673  0.000055       1.0\n",
       "1  0.682143  0.119828  0.198030  0.000087       2.0\n",
       "2  0.679146  0.123236  0.197619  8.152791       3.0"
      ]
     },
     "execution_count": 65,
     "metadata": {},
     "output_type": "execute_result"
    }
   ],
   "source": [
    "try:\n",
    "    result_summ.drop(result_summ.loc[result_summ.model_no==cnt].index, axis=0, inplace=True)\n",
    "except Exception as e:\n",
    "    print(e)\n",
    "\n",
    "result_summ = result_summ.append(summ, ignore_index=True)\n",
    "result_summ"
   ]
  },
  {
   "cell_type": "code",
   "execution_count": 58,
   "metadata": {},
   "outputs": [
    {
     "name": "stdout",
     "output_type": "stream",
     "text": [
      "Overall accuracy: 0.682\n",
      "Type I error: 0.120\n",
      "Type II error: 0.198\n",
      "Time elapsed: 0.0 seconds\n"
     ]
    }
   ],
   "source": [
    "print('Overall accuracy: {0:.3f}'.format(summ['acc']))\n",
    "print('Type I error: {0:.3f}'.format(summ['type1']))\n",
    "print('Type II error: {0:.3f}'.format(summ['type2']))\n",
    "print('Time elapsed: {0:.1f} seconds'.format(summ['time']))"
   ]
  },
  {
   "cell_type": "markdown",
   "metadata": {},
   "source": [
    "It looks like eliminating those rows did decreased performance, albeit very slightly."
   ]
  },
  {
   "cell_type": "code",
   "execution_count": 59,
   "metadata": {},
   "outputs": [
    {
     "data": {
      "image/png": "[encoded data removed]",
      "text/plain": [
       "<Figure size 432x288 with 1 Axes>"
      ]
     },
     "metadata": {
      "needs_background": "light"
     },
     "output_type": "display_data"
    }
   ],
   "source": [
    "from sklearn.model_selection import train_test_split as tts\n",
    "\n",
    "X_train, X_test, y_train, y_test = tts(X, y, test_size=0.33)\n",
    "\n",
    "clf.fit(X_train, y_train)\n",
    "\n",
    "feature_importance = clf.feature_importances_\n",
    "\n",
    "# Make importances relative to max importance.\n",
    "feature_importance = 100.0 * (feature_importance / feature_importance.max())\n",
    "sorted_idx = np.argsort(feature_importance)\n",
    "pos = np.arange(sorted_idx.shape[0]) + .5\n",
    "plt.subplot(1, 2, 2)\n",
    "plt.barh(pos, feature_importance[sorted_idx], align='center')\n",
    "plt.yticks(pos, X.columns[sorted_idx])\n",
    "plt.xlabel('Relative Importance')\n",
    "plt.title('Variable Importance')\n",
    "plt.show()"
   ]
  },
  {
   "cell_type": "markdown",
   "metadata": {},
   "source": [
    "# Increasing the number of iterations"
   ]
  },
  {
   "cell_type": "code",
   "execution_count": 60,
   "metadata": {},
   "outputs": [],
   "source": [
    "cnt += 1"
   ]
  },
  {
   "cell_type": "code",
   "execution_count": 61,
   "metadata": {},
   "outputs": [],
   "source": [
    "X = df.dropna()\n",
    "y = X.partner - 1\n",
    "\n",
    "X = X.drop(['idno', 'partner'], axis=1)\n",
    "X = pd.get_dummies(X)"
   ]
  },
  {
   "cell_type": "code",
   "execution_count": 62,
   "metadata": {},
   "outputs": [
    {
     "name": "stdout",
     "output_type": "stream",
     "text": [
      "Elapsed time: 8.152791321999985 seconds\n"
     ]
    }
   ],
   "source": [
    "from time import perf_counter\n",
    "\n",
    "from sklearn.model_selection import cross_val_predict as cvp\n",
    "\n",
    "# We'll make 500 iterations, use 2-deep trees, and set our loss function.\n",
    "params = {'n_estimators': 1000,\n",
    "          'max_depth': 2,\n",
    "          'loss': 'deviance'}\n",
    "\n",
    "# Initialize and fit the model.\n",
    "clf = ensemble.GradientBoostingClassifier(**params)\n",
    "\n",
    "start = perf_counter()\n",
    "predictions = cvp(clf, X, y, cv=3)\n",
    "end = perf_counter()\n",
    "print('Elapsed time: {0} seconds'.format(end-start))"
   ]
  },
  {
   "cell_type": "code",
   "execution_count": 63,
   "metadata": {},
   "outputs": [],
   "source": [
    "summ = compute_acc(y, predictions)\n",
    "summ['time'] = end-start\n",
    "summ['model_no'] = cnt"
   ]
  },
  {
   "cell_type": "code",
   "execution_count": 67,
   "metadata": {},
   "outputs": [
    {
     "data": {
      "text/html": [
       "<div>\n",
       "<style scoped>\n",
       "    .dataframe tbody tr th:only-of-type {\n",
       "        vertical-align: middle;\n",
       "    }\n",
       "\n",
       "    .dataframe tbody tr th {\n",
       "        vertical-align: top;\n",
       "    }\n",
       "\n",
       "    .dataframe thead th {\n",
       "        text-align: right;\n",
       "    }\n",
       "</style>\n",
       "<table border=\"1\" class=\"dataframe\">\n",
       "  <thead>\n",
       "    <tr style=\"text-align: right;\">\n",
       "      <th></th>\n",
       "      <th>acc</th>\n",
       "      <th>type1</th>\n",
       "      <th>type2</th>\n",
       "      <th>time</th>\n",
       "      <th>model_no</th>\n",
       "    </tr>\n",
       "  </thead>\n",
       "  <tbody>\n",
       "    <tr>\n",
       "      <th>0</th>\n",
       "      <td>0.685651</td>\n",
       "      <td>0.119676</td>\n",
       "      <td>0.194673</td>\n",
       "      <td>0.000055</td>\n",
       "      <td>1.0</td>\n",
       "    </tr>\n",
       "    <tr>\n",
       "      <th>1</th>\n",
       "      <td>0.682143</td>\n",
       "      <td>0.119828</td>\n",
       "      <td>0.198030</td>\n",
       "      <td>0.000087</td>\n",
       "      <td>2.0</td>\n",
       "    </tr>\n",
       "    <tr>\n",
       "      <th>2</th>\n",
       "      <td>0.679146</td>\n",
       "      <td>0.123236</td>\n",
       "      <td>0.197619</td>\n",
       "      <td>8.152791</td>\n",
       "      <td>3.0</td>\n",
       "    </tr>\n",
       "  </tbody>\n",
       "</table>\n",
       "</div>"
      ],
      "text/plain": [
       "        acc     type1     type2      time  model_no\n",
       "0  0.685651  0.119676  0.194673  0.000055       1.0\n",
       "1  0.682143  0.119828  0.198030  0.000087       2.0\n",
       "2  0.679146  0.123236  0.197619  8.152791       3.0"
      ]
     },
     "execution_count": 67,
     "metadata": {},
     "output_type": "execute_result"
    }
   ],
   "source": [
    "try:\n",
    "    result_summ.drop(result_summ.loc[result_summ.model_no==cnt].index, axis=0, inplace=True)\n",
    "except Exception as e:\n",
    "    print(e)\n",
    "\n",
    "result_summ = result_summ.append(summ, ignore_index=True)\n",
    "result_summ"
   ]
  },
  {
   "cell_type": "code",
   "execution_count": 68,
   "metadata": {},
   "outputs": [
    {
     "name": "stdout",
     "output_type": "stream",
     "text": [
      "Overall accuracy: 0.679\n",
      "Type I error: 0.123\n",
      "Type II error: 0.198\n",
      "Time elapsed: 8.2 seconds\n"
     ]
    }
   ],
   "source": [
    "print('Overall accuracy: {0:.3f}'.format(summ['acc']))\n",
    "print('Type I error: {0:.3f}'.format(summ['type1']))\n",
    "print('Type II error: {0:.3f}'.format(summ['type2']))\n",
    "print('Time elapsed: {0:.1f} seconds'.format(summ['time']))"
   ]
  },
  {
   "cell_type": "markdown",
   "metadata": {},
   "source": [
    "Interesting. Increasing the iteractions actually reduced fit. Would that be due to overfitting? What happens if I decrease the number of iterations?"
   ]
  },
  {
   "cell_type": "markdown",
   "metadata": {},
   "source": [
    "# Model 4: Decreasing the number of iterations\n",
    "Hypothesis: decreasing the number of iterations will improve performance by reducing overfitting."
   ]
  },
  {
   "cell_type": "code",
   "execution_count": 69,
   "metadata": {},
   "outputs": [],
   "source": [
    "cnt += 1"
   ]
  },
  {
   "cell_type": "code",
   "execution_count": 70,
   "metadata": {},
   "outputs": [],
   "source": [
    "X = df.dropna()\n",
    "y = X.partner - 1\n",
    "\n",
    "X = X.drop(['idno', 'partner'], axis=1)\n",
    "X = pd.get_dummies(X)"
   ]
  },
  {
   "cell_type": "code",
   "execution_count": 71,
   "metadata": {},
   "outputs": [],
   "source": [
    "from time import perf_counter\n",
    "\n",
    "from sklearn.model_selection import cross_val_predict as cvp\n",
    "\n",
    "# We'll make 500 iterations, use 2-deep trees, and set our loss function.\n",
    "params = {'n_estimators': 250,\n",
    "          'max_depth': 2,\n",
    "          'loss': 'deviance'}\n",
    "\n",
    "# Initialize and fit the model.\n",
    "clf = ensemble.GradientBoostingClassifier(**params)\n",
    "\n",
    "start = perf_counter()\n",
    "predictions = cvp(clf, X, y, cv=3)\n",
    "end = perf_counter()\n",
    "# print('Elapsed time: {0} seconds'.format(end-start))"
   ]
  },
  {
   "cell_type": "code",
   "execution_count": 72,
   "metadata": {},
   "outputs": [],
   "source": [
    "summ = compute_acc(y, predictions)\n",
    "summ['time'] = end-start\n",
    "summ['model_no'] = cnt"
   ]
  },
  {
   "cell_type": "code",
   "execution_count": 73,
   "metadata": {},
   "outputs": [
    {
     "data": {
      "text/html": [
       "<div>\n",
       "<style scoped>\n",
       "    .dataframe tbody tr th:only-of-type {\n",
       "        vertical-align: middle;\n",
       "    }\n",
       "\n",
       "    .dataframe tbody tr th {\n",
       "        vertical-align: top;\n",
       "    }\n",
       "\n",
       "    .dataframe thead th {\n",
       "        text-align: right;\n",
       "    }\n",
       "</style>\n",
       "<table border=\"1\" class=\"dataframe\">\n",
       "  <thead>\n",
       "    <tr style=\"text-align: right;\">\n",
       "      <th></th>\n",
       "      <th>acc</th>\n",
       "      <th>type1</th>\n",
       "      <th>type2</th>\n",
       "      <th>time</th>\n",
       "      <th>model_no</th>\n",
       "    </tr>\n",
       "  </thead>\n",
       "  <tbody>\n",
       "    <tr>\n",
       "      <th>0</th>\n",
       "      <td>0.685651</td>\n",
       "      <td>0.119676</td>\n",
       "      <td>0.194673</td>\n",
       "      <td>0.000055</td>\n",
       "      <td>1.0</td>\n",
       "    </tr>\n",
       "    <tr>\n",
       "      <th>1</th>\n",
       "      <td>0.682143</td>\n",
       "      <td>0.119828</td>\n",
       "      <td>0.198030</td>\n",
       "      <td>0.000087</td>\n",
       "      <td>2.0</td>\n",
       "    </tr>\n",
       "    <tr>\n",
       "      <th>2</th>\n",
       "      <td>0.679146</td>\n",
       "      <td>0.123236</td>\n",
       "      <td>0.197619</td>\n",
       "      <td>8.152791</td>\n",
       "      <td>3.0</td>\n",
       "    </tr>\n",
       "    <tr>\n",
       "      <th>3</th>\n",
       "      <td>0.686510</td>\n",
       "      <td>0.117712</td>\n",
       "      <td>0.195778</td>\n",
       "      <td>2.016423</td>\n",
       "      <td>4.0</td>\n",
       "    </tr>\n",
       "  </tbody>\n",
       "</table>\n",
       "</div>"
      ],
      "text/plain": [
       "        acc     type1     type2      time  model_no\n",
       "0  0.685651  0.119676  0.194673  0.000055       1.0\n",
       "1  0.682143  0.119828  0.198030  0.000087       2.0\n",
       "2  0.679146  0.123236  0.197619  8.152791       3.0\n",
       "3  0.686510  0.117712  0.195778  2.016423       4.0"
      ]
     },
     "execution_count": 73,
     "metadata": {},
     "output_type": "execute_result"
    }
   ],
   "source": [
    "try:\n",
    "    result_summ.drop(result_summ.loc[result_summ.model_no==cnt].index, axis=0, inplace=True)\n",
    "except Exception as e:\n",
    "    print(e)\n",
    "\n",
    "result_summ = result_summ.append(summ, ignore_index=True)\n",
    "result_summ"
   ]
  },
  {
   "cell_type": "code",
   "execution_count": 74,
   "metadata": {},
   "outputs": [
    {
     "name": "stdout",
     "output_type": "stream",
     "text": [
      "Overall accuracy: 0.687\n",
      "Type I error: 0.118\n",
      "Type II error: 0.196\n",
      "Time elapsed: 2.0 seconds\n"
     ]
    }
   ],
   "source": [
    "print('Overall accuracy: {0:.3f}'.format(summ['acc']))\n",
    "print('Type I error: {0:.3f}'.format(summ['type1']))\n",
    "print('Type II error: {0:.3f}'.format(summ['type2']))\n",
    "print('Time elapsed: {0:.1f} seconds'.format(summ['time']))"
   ]
  },
  {
   "cell_type": "markdown",
   "metadata": {},
   "source": [
    "My model does slightly better, though not by very much. I think it's time to swap out the loss function and see what happens."
   ]
  },
  {
   "cell_type": "markdown",
   "metadata": {},
   "source": [
    "# Model 5: Switching the loss function from deviance to exponential\n",
    "I'm keeping 250 iterations since that's given me my best accuracy yet, but I'm swithcing the loss function from deviance to exponential."
   ]
  },
  {
   "cell_type": "code",
   "execution_count": 75,
   "metadata": {},
   "outputs": [],
   "source": [
    "cnt += 1"
   ]
  },
  {
   "cell_type": "code",
   "execution_count": 76,
   "metadata": {},
   "outputs": [],
   "source": [
    "X = df.dropna()\n",
    "y = X.partner - 1\n",
    "\n",
    "X = X.drop(['idno', 'partner'], axis=1)\n",
    "X = pd.get_dummies(X)"
   ]
  },
  {
   "cell_type": "code",
   "execution_count": 77,
   "metadata": {},
   "outputs": [
    {
     "name": "stdout",
     "output_type": "stream",
     "text": [
      "Elapsed time: 1.9345432060001713 seconds\n"
     ]
    }
   ],
   "source": [
    "from time import perf_counter\n",
    "\n",
    "from sklearn.model_selection import cross_val_predict as cvp\n",
    "\n",
    "# We'll make 500 iterations, use 2-deep trees, and set our loss function.\n",
    "params = {'n_estimators': 250,\n",
    "          'max_depth': 2,\n",
    "          'loss': 'exponential'}\n",
    "\n",
    "# Initialize and fit the model.\n",
    "clf = ensemble.GradientBoostingClassifier(**params)\n",
    "\n",
    "start = perf_counter()\n",
    "predictions = cvp(clf, X, y, cv=3)\n",
    "end = perf_counter()\n",
    "print('Elapsed time: {0} seconds'.format(end-start))"
   ]
  },
  {
   "cell_type": "code",
   "execution_count": 78,
   "metadata": {},
   "outputs": [],
   "source": [
    "summ = compute_acc(y, predictions)\n",
    "summ['time'] = end-start\n",
    "summ['model_no'] = cnt"
   ]
  },
  {
   "cell_type": "code",
   "execution_count": 79,
   "metadata": {},
   "outputs": [
    {
     "data": {
      "text/html": [
       "<div>\n",
       "<style scoped>\n",
       "    .dataframe tbody tr th:only-of-type {\n",
       "        vertical-align: middle;\n",
       "    }\n",
       "\n",
       "    .dataframe tbody tr th {\n",
       "        vertical-align: top;\n",
       "    }\n",
       "\n",
       "    .dataframe thead th {\n",
       "        text-align: right;\n",
       "    }\n",
       "</style>\n",
       "<table border=\"1\" class=\"dataframe\">\n",
       "  <thead>\n",
       "    <tr style=\"text-align: right;\">\n",
       "      <th></th>\n",
       "      <th>acc</th>\n",
       "      <th>type1</th>\n",
       "      <th>type2</th>\n",
       "      <th>time</th>\n",
       "      <th>model_no</th>\n",
       "    </tr>\n",
       "  </thead>\n",
       "  <tbody>\n",
       "    <tr>\n",
       "      <th>0</th>\n",
       "      <td>0.685651</td>\n",
       "      <td>0.119676</td>\n",
       "      <td>0.194673</td>\n",
       "      <td>0.000055</td>\n",
       "      <td>1.0</td>\n",
       "    </tr>\n",
       "    <tr>\n",
       "      <th>1</th>\n",
       "      <td>0.682143</td>\n",
       "      <td>0.119828</td>\n",
       "      <td>0.198030</td>\n",
       "      <td>0.000087</td>\n",
       "      <td>2.0</td>\n",
       "    </tr>\n",
       "    <tr>\n",
       "      <th>2</th>\n",
       "      <td>0.679146</td>\n",
       "      <td>0.123236</td>\n",
       "      <td>0.197619</td>\n",
       "      <td>8.152791</td>\n",
       "      <td>3.0</td>\n",
       "    </tr>\n",
       "    <tr>\n",
       "      <th>3</th>\n",
       "      <td>0.686510</td>\n",
       "      <td>0.117712</td>\n",
       "      <td>0.195778</td>\n",
       "      <td>2.016423</td>\n",
       "      <td>4.0</td>\n",
       "    </tr>\n",
       "    <tr>\n",
       "      <th>4</th>\n",
       "      <td>0.681110</td>\n",
       "      <td>0.116976</td>\n",
       "      <td>0.201915</td>\n",
       "      <td>1.934543</td>\n",
       "      <td>5.0</td>\n",
       "    </tr>\n",
       "  </tbody>\n",
       "</table>\n",
       "</div>"
      ],
      "text/plain": [
       "        acc     type1     type2      time  model_no\n",
       "0  0.685651  0.119676  0.194673  0.000055       1.0\n",
       "1  0.682143  0.119828  0.198030  0.000087       2.0\n",
       "2  0.679146  0.123236  0.197619  8.152791       3.0\n",
       "3  0.686510  0.117712  0.195778  2.016423       4.0\n",
       "4  0.681110  0.116976  0.201915  1.934543       5.0"
      ]
     },
     "execution_count": 79,
     "metadata": {},
     "output_type": "execute_result"
    }
   ],
   "source": [
    "try:\n",
    "    result_summ.drop(result_summ.loc[result_summ.model_no==cnt].index, axis=0, inplace=True)\n",
    "except Exception as e:\n",
    "    print(e)\n",
    "\n",
    "result_summ = result_summ.append(summ, ignore_index=True)\n",
    "result_summ"
   ]
  },
  {
   "cell_type": "code",
   "execution_count": 80,
   "metadata": {},
   "outputs": [
    {
     "name": "stdout",
     "output_type": "stream",
     "text": [
      "Overall accuracy: 0.681\n",
      "Type I error: 0.117\n",
      "Type II error: 0.202\n",
      "Time elapsed: 1.9 seconds\n"
     ]
    }
   ],
   "source": [
    "print('Overall accuracy: {0:.3f}'.format(summ['acc']))\n",
    "print('Type I error: {0:.3f}'.format(summ['type1']))\n",
    "print('Type II error: {0:.3f}'.format(summ['type2']))\n",
    "print('Time elapsed: {0:.1f} seconds'.format(summ['time']))"
   ]
  },
  {
   "cell_type": "markdown",
   "metadata": {},
   "source": [
    "And my results there are worse than baseline and the previous model."
   ]
  },
  {
   "cell_type": "markdown",
   "metadata": {},
   "source": [
    "# Model 6: Feature Engineering\n",
    "My former experiments suggest that there isn't a lot of performance gain to be had from tweaking different hyperparameters, which suggests that the features themselves could stand to be optimized. Moreover, when I looked at feature importance the same three features stood out as important: agea, happy, and sclmeet (which I think has to do with how often people are social). For this experiment I will try the following:\n",
    "- Drop country, which does not appear to be adding anything to the model and may be adding noise;\n",
    "- Combine via PCA ppltrst, pplfair, and pplhlp which are highly correlated; and\n",
    "- Create higher degree variables from the continuous variables."
   ]
  },
  {
   "cell_type": "code",
   "execution_count": 81,
   "metadata": {},
   "outputs": [
    {
     "data": {
      "image/png": "[encoded data removed]",
      "text/plain": [
       "<Figure size 432x288 with 2 Axes>"
      ]
     },
     "metadata": {
      "needs_background": "light"
     },
     "output_type": "display_data"
    }
   ],
   "source": [
    "z = X.copy()\n",
    "z['partner'] = y\n",
    "sns.heatmap(z.corr().abs(), cmap = 'bwr')\n",
    "plt.title('Correlations Between Features in ESS Dataset')\n",
    "plt.show()\n",
    "del z"
   ]
  },
  {
   "cell_type": "markdown",
   "metadata": {},
   "source": [
    "## Dropping Country and year\n",
    "If we examine the feature importance plots above we see that county and year are of relatively little importance. Dropping these variables should improve performance by decreasing noise."
   ]
  },
  {
   "cell_type": "code",
   "execution_count": 82,
   "metadata": {},
   "outputs": [],
   "source": [
    "cnt += 1"
   ]
  },
  {
   "cell_type": "code",
   "execution_count": 83,
   "metadata": {},
   "outputs": [
    {
     "data": {
      "text/plain": [
       "Index(['tvtot', 'ppltrst', 'pplfair', 'pplhlp', 'happy', 'sclmeet', 'sclact',\n",
       "       'gndr', 'agea'],\n",
       "      dtype='object')"
      ]
     },
     "execution_count": 83,
     "metadata": {},
     "output_type": "execute_result"
    }
   ],
   "source": [
    "X = safe_drop(df, ['idno', 'cntry', 'year'])\n",
    "X = X.dropna()\n",
    "y = X.partner - 1\n",
    "X = safe_drop(X, 'partner')\n",
    "X.columns"
   ]
  },
  {
   "cell_type": "code",
   "execution_count": 84,
   "metadata": {},
   "outputs": [
    {
     "name": "stdout",
     "output_type": "stream",
     "text": [
      "Elapsed time: 1.6243057950000548 seconds\n"
     ]
    }
   ],
   "source": [
    "# We'll make 500 iterations, use 2-deep trees, and set our loss function.\n",
    "params = {'n_estimators': 250,\n",
    "          'max_depth': 2,\n",
    "          'loss': 'deviance'}\n",
    "\n",
    "# Initialize and fit the model.\n",
    "clf = ensemble.GradientBoostingClassifier(**params)\n",
    "\n",
    "start = perf_counter()\n",
    "predictions = cvp(clf, X, y, cv=3)\n",
    "end = perf_counter()\n",
    "print('Elapsed time: {0} seconds'.format(end-start))"
   ]
  },
  {
   "cell_type": "code",
   "execution_count": 85,
   "metadata": {},
   "outputs": [],
   "source": [
    "summ = compute_acc(y, predictions)\n",
    "summ['time'] = end-start\n",
    "summ['model_no'] = cnt"
   ]
  },
  {
   "cell_type": "code",
   "execution_count": 86,
   "metadata": {},
   "outputs": [
    {
     "data": {
      "text/html": [
       "<div>\n",
       "<style scoped>\n",
       "    .dataframe tbody tr th:only-of-type {\n",
       "        vertical-align: middle;\n",
       "    }\n",
       "\n",
       "    .dataframe tbody tr th {\n",
       "        vertical-align: top;\n",
       "    }\n",
       "\n",
       "    .dataframe thead th {\n",
       "        text-align: right;\n",
       "    }\n",
       "</style>\n",
       "<table border=\"1\" class=\"dataframe\">\n",
       "  <thead>\n",
       "    <tr style=\"text-align: right;\">\n",
       "      <th></th>\n",
       "      <th>acc</th>\n",
       "      <th>type1</th>\n",
       "      <th>type2</th>\n",
       "      <th>time</th>\n",
       "      <th>model_no</th>\n",
       "    </tr>\n",
       "  </thead>\n",
       "  <tbody>\n",
       "    <tr>\n",
       "      <th>0</th>\n",
       "      <td>0.685651</td>\n",
       "      <td>0.119676</td>\n",
       "      <td>0.194673</td>\n",
       "      <td>0.000055</td>\n",
       "      <td>1.0</td>\n",
       "    </tr>\n",
       "    <tr>\n",
       "      <th>1</th>\n",
       "      <td>0.682143</td>\n",
       "      <td>0.119828</td>\n",
       "      <td>0.198030</td>\n",
       "      <td>0.000087</td>\n",
       "      <td>2.0</td>\n",
       "    </tr>\n",
       "    <tr>\n",
       "      <th>2</th>\n",
       "      <td>0.679146</td>\n",
       "      <td>0.123236</td>\n",
       "      <td>0.197619</td>\n",
       "      <td>8.152791</td>\n",
       "      <td>3.0</td>\n",
       "    </tr>\n",
       "    <tr>\n",
       "      <th>3</th>\n",
       "      <td>0.686510</td>\n",
       "      <td>0.117712</td>\n",
       "      <td>0.195778</td>\n",
       "      <td>2.016423</td>\n",
       "      <td>4.0</td>\n",
       "    </tr>\n",
       "    <tr>\n",
       "      <th>4</th>\n",
       "      <td>0.681110</td>\n",
       "      <td>0.116976</td>\n",
       "      <td>0.201915</td>\n",
       "      <td>1.934543</td>\n",
       "      <td>5.0</td>\n",
       "    </tr>\n",
       "    <tr>\n",
       "      <th>5</th>\n",
       "      <td>0.748251</td>\n",
       "      <td>0.059040</td>\n",
       "      <td>0.192709</td>\n",
       "      <td>1.624306</td>\n",
       "      <td>6.0</td>\n",
       "    </tr>\n",
       "  </tbody>\n",
       "</table>\n",
       "</div>"
      ],
      "text/plain": [
       "        acc     type1     type2      time  model_no\n",
       "0  0.685651  0.119676  0.194673  0.000055       1.0\n",
       "1  0.682143  0.119828  0.198030  0.000087       2.0\n",
       "2  0.679146  0.123236  0.197619  8.152791       3.0\n",
       "3  0.686510  0.117712  0.195778  2.016423       4.0\n",
       "4  0.681110  0.116976  0.201915  1.934543       5.0\n",
       "5  0.748251  0.059040  0.192709  1.624306       6.0"
      ]
     },
     "execution_count": 86,
     "metadata": {},
     "output_type": "execute_result"
    }
   ],
   "source": [
    "try:\n",
    "    result_summ.drop(result_summ.loc[result_summ.model_no==cnt].index, axis=0, inplace=True)\n",
    "except Exception as e:\n",
    "    print(e)\n",
    "\n",
    "result_summ = result_summ.append(summ, ignore_index=True)\n",
    "result_summ"
   ]
  },
  {
   "cell_type": "code",
   "execution_count": 87,
   "metadata": {},
   "outputs": [
    {
     "name": "stdout",
     "output_type": "stream",
     "text": [
      "Overall accuracy: 0.748\n",
      "Type I error: 0.059\n",
      "Type II error: 0.193\n",
      "Time elapsed: 1.6 seconds\n"
     ]
    }
   ],
   "source": [
    "print('Overall accuracy: {0:.3f}'.format(summ['acc']))\n",
    "print('Type I error: {0:.3f}'.format(summ['type1']))\n",
    "print('Type II error: {0:.3f}'.format(summ['type2']))\n",
    "print('Time elapsed: {0:.1f} seconds'.format(summ['time']))"
   ]
  },
  {
   "cell_type": "markdown",
   "metadata": {},
   "source": [
    "Whoa...That actually helped a lot."
   ]
  },
  {
   "cell_type": "markdown",
   "metadata": {},
   "source": [
    "## Combining correlated features\n",
    "The only variables that exibit a correlation over 0.3 are \"ppltrst\", \"pplhlp\", and \"pplfair.\" I will therefore combine these three variables."
   ]
  },
  {
   "cell_type": "code",
   "execution_count": 88,
   "metadata": {},
   "outputs": [],
   "source": [
    "cnt += 1"
   ]
  },
  {
   "cell_type": "code",
   "execution_count": 89,
   "metadata": {},
   "outputs": [
    {
     "data": {
      "text/html": [
       "<div>\n",
       "<style scoped>\n",
       "    .dataframe tbody tr th:only-of-type {\n",
       "        vertical-align: middle;\n",
       "    }\n",
       "\n",
       "    .dataframe tbody tr th {\n",
       "        vertical-align: top;\n",
       "    }\n",
       "\n",
       "    .dataframe thead th {\n",
       "        text-align: right;\n",
       "    }\n",
       "</style>\n",
       "<table border=\"1\" class=\"dataframe\">\n",
       "  <thead>\n",
       "    <tr style=\"text-align: right;\">\n",
       "      <th></th>\n",
       "      <th>field_1</th>\n",
       "      <th>field_2</th>\n",
       "      <th>pearson</th>\n",
       "    </tr>\n",
       "  </thead>\n",
       "  <tbody>\n",
       "    <tr>\n",
       "      <th>21</th>\n",
       "      <td>ppltrst</td>\n",
       "      <td>pplfair</td>\n",
       "      <td>0.592001</td>\n",
       "    </tr>\n",
       "    <tr>\n",
       "      <th>23</th>\n",
       "      <td>pplhlp</td>\n",
       "      <td>pplfair</td>\n",
       "      <td>0.480918</td>\n",
       "    </tr>\n",
       "    <tr>\n",
       "      <th>31</th>\n",
       "      <td>ppltrst</td>\n",
       "      <td>pplhlp</td>\n",
       "      <td>0.462562</td>\n",
       "    </tr>\n",
       "  </tbody>\n",
       "</table>\n",
       "</div>"
      ],
      "text/plain": [
       "    field_1  field_2   pearson\n",
       "21  ppltrst  pplfair  0.592001\n",
       "23   pplhlp  pplfair  0.480918\n",
       "31  ppltrst   pplhlp  0.462562"
      ]
     },
     "execution_count": 89,
     "metadata": {},
     "output_type": "execute_result"
    }
   ],
   "source": [
    "cor = df.loc[:, ~df.columns.isin(['idno', 'cntry', 'year'])].corr().reset_index()\n",
    "cor.columns = cor.columns.str.replace('index', 'field_1')\n",
    "cor = cor.melt(id_vars='field_1', var_name='field_2', value_name='pearson')\n",
    "cor.loc[(cor.field_1!=cor.field_2) & (cor.field_1>cor.field_2) & (cor.pearson>0.3)].sort_values('pearson', ascending=False)"
   ]
  },
  {
   "cell_type": "code",
   "execution_count": 90,
   "metadata": {},
   "outputs": [],
   "source": [
    "from sklearn.decomposition import PCA as pca\n",
    "\n",
    "X = safe_drop(df, ['idno', 'cntry', 'year']).dropna()\n",
    "y = X.partner - 1\n",
    "X = safe_drop(X, 'partner')\n",
    "\n",
    "p = pca(n_components=2)\n",
    "p.fit(X.loc[:, X.columns[X.columns.str.contains('ppl')]])\n",
    "ppl = p.transform(X.loc[:, X.columns[X.columns.str.contains('ppl')]])"
   ]
  },
  {
   "cell_type": "code",
   "execution_count": 91,
   "metadata": {},
   "outputs": [],
   "source": [
    "ppl = pd.DataFrame(ppl, columns=['ppl1', 'ppl2'])\n",
    "X = pd.concat([safe_drop(X.reset_index(), ['ppltrst', 'pplfair', 'pplhlp', 'index']), ppl], axis=1)"
   ]
  },
  {
   "cell_type": "code",
   "execution_count": 92,
   "metadata": {},
   "outputs": [
    {
     "name": "stdout",
     "output_type": "stream",
     "text": [
      "Elapsed time: 1.5038201009999739 seconds\n"
     ]
    }
   ],
   "source": [
    "params = {'n_estimators': 250,\n",
    "          'max_depth': 2,\n",
    "          'loss': 'deviance'}\n",
    "\n",
    "# Initialize and fit the model.\n",
    "clf = ensemble.GradientBoostingClassifier(**params)\n",
    "\n",
    "start = perf_counter()\n",
    "predictions = cvp(clf, X, y, cv=3)\n",
    "end = perf_counter()\n",
    "print('Elapsed time: {0} seconds'.format(end-start))"
   ]
  },
  {
   "cell_type": "code",
   "execution_count": 93,
   "metadata": {},
   "outputs": [],
   "source": [
    "summ = compute_acc(y, predictions)\n",
    "summ['time'] = end-start\n",
    "summ['model_no'] = cnt"
   ]
  },
  {
   "cell_type": "code",
   "execution_count": 94,
   "metadata": {},
   "outputs": [
    {
     "data": {
      "text/html": [
       "<div>\n",
       "<style scoped>\n",
       "    .dataframe tbody tr th:only-of-type {\n",
       "        vertical-align: middle;\n",
       "    }\n",
       "\n",
       "    .dataframe tbody tr th {\n",
       "        vertical-align: top;\n",
       "    }\n",
       "\n",
       "    .dataframe thead th {\n",
       "        text-align: right;\n",
       "    }\n",
       "</style>\n",
       "<table border=\"1\" class=\"dataframe\">\n",
       "  <thead>\n",
       "    <tr style=\"text-align: right;\">\n",
       "      <th></th>\n",
       "      <th>acc</th>\n",
       "      <th>type1</th>\n",
       "      <th>type2</th>\n",
       "      <th>time</th>\n",
       "      <th>model_no</th>\n",
       "    </tr>\n",
       "  </thead>\n",
       "  <tbody>\n",
       "    <tr>\n",
       "      <th>0</th>\n",
       "      <td>0.685651</td>\n",
       "      <td>0.119676</td>\n",
       "      <td>0.194673</td>\n",
       "      <td>0.000055</td>\n",
       "      <td>1.0</td>\n",
       "    </tr>\n",
       "    <tr>\n",
       "      <th>1</th>\n",
       "      <td>0.682143</td>\n",
       "      <td>0.119828</td>\n",
       "      <td>0.198030</td>\n",
       "      <td>0.000087</td>\n",
       "      <td>2.0</td>\n",
       "    </tr>\n",
       "    <tr>\n",
       "      <th>2</th>\n",
       "      <td>0.679146</td>\n",
       "      <td>0.123236</td>\n",
       "      <td>0.197619</td>\n",
       "      <td>8.152791</td>\n",
       "      <td>3.0</td>\n",
       "    </tr>\n",
       "    <tr>\n",
       "      <th>3</th>\n",
       "      <td>0.686510</td>\n",
       "      <td>0.117712</td>\n",
       "      <td>0.195778</td>\n",
       "      <td>2.016423</td>\n",
       "      <td>4.0</td>\n",
       "    </tr>\n",
       "    <tr>\n",
       "      <th>4</th>\n",
       "      <td>0.681110</td>\n",
       "      <td>0.116976</td>\n",
       "      <td>0.201915</td>\n",
       "      <td>1.934543</td>\n",
       "      <td>5.0</td>\n",
       "    </tr>\n",
       "    <tr>\n",
       "      <th>5</th>\n",
       "      <td>0.748251</td>\n",
       "      <td>0.059040</td>\n",
       "      <td>0.192709</td>\n",
       "      <td>1.624306</td>\n",
       "      <td>6.0</td>\n",
       "    </tr>\n",
       "    <tr>\n",
       "      <th>6</th>\n",
       "      <td>0.747146</td>\n",
       "      <td>0.058795</td>\n",
       "      <td>0.194059</td>\n",
       "      <td>1.503820</td>\n",
       "      <td>7.0</td>\n",
       "    </tr>\n",
       "  </tbody>\n",
       "</table>\n",
       "</div>"
      ],
      "text/plain": [
       "        acc     type1     type2      time  model_no\n",
       "0  0.685651  0.119676  0.194673  0.000055       1.0\n",
       "1  0.682143  0.119828  0.198030  0.000087       2.0\n",
       "2  0.679146  0.123236  0.197619  8.152791       3.0\n",
       "3  0.686510  0.117712  0.195778  2.016423       4.0\n",
       "4  0.681110  0.116976  0.201915  1.934543       5.0\n",
       "5  0.748251  0.059040  0.192709  1.624306       6.0\n",
       "6  0.747146  0.058795  0.194059  1.503820       7.0"
      ]
     },
     "execution_count": 94,
     "metadata": {},
     "output_type": "execute_result"
    }
   ],
   "source": [
    "try:\n",
    "    result_summ.drop(result_summ.loc[result_summ.model_no==cnt].index, axis=0, inplace=True)\n",
    "except Exception as e:\n",
    "    print(e)\n",
    "\n",
    "result_summ = result_summ.append(summ, ignore_index=True)\n",
    "result_summ"
   ]
  },
  {
   "cell_type": "code",
   "execution_count": 95,
   "metadata": {},
   "outputs": [
    {
     "name": "stdout",
     "output_type": "stream",
     "text": [
      "Overall accuracy: 0.747\n",
      "Type I error: 0.059\n",
      "Type II error: 0.194\n",
      "Time elapsed: 1.5 seconds\n"
     ]
    }
   ],
   "source": [
    "print('Overall accuracy: {0:.3f}'.format(summ['acc']))\n",
    "print('Type I error: {0:.3f}'.format(summ['type1']))\n",
    "print('Type II error: {0:.3f}'.format(summ['type2']))\n",
    "print('Time elapsed: {0:.1f} seconds'.format(summ['time']))"
   ]
  },
  {
   "cell_type": "markdown",
   "metadata": {},
   "source": [
    "### Variable importance"
   ]
  },
  {
   "cell_type": "code",
   "execution_count": 96,
   "metadata": {},
   "outputs": [
    {
     "data": {
      "image/png": "[encoded data removed]",
      "text/plain": [
       "<Figure size 432x288 with 1 Axes>"
      ]
     },
     "metadata": {
      "needs_background": "light"
     },
     "output_type": "display_data"
    }
   ],
   "source": [
    "from sklearn.model_selection import train_test_split as tts\n",
    "\n",
    "X_train, X_test, y_train, y_test = tts(X, y, test_size=0.33)\n",
    "\n",
    "clf.fit(X_train, y_train)\n",
    "\n",
    "feature_importance = clf.feature_importances_\n",
    "\n",
    "# Make importances relative to max importance.\n",
    "feature_importance = 100.0 * (feature_importance / feature_importance.max())\n",
    "sorted_idx = np.argsort(feature_importance)\n",
    "pos = np.arange(sorted_idx.shape[0]) + .5\n",
    "plt.subplot(1, 2, 2)\n",
    "plt.barh(pos, feature_importance[sorted_idx], align='center')\n",
    "plt.yticks(pos, X.columns[sorted_idx])\n",
    "plt.xlabel('Relative Importance')\n",
    "plt.title('Variable Importance')\n",
    "plt.show()"
   ]
  },
  {
   "cell_type": "markdown",
   "metadata": {},
   "source": [
    "PCA didn't help at all, possibly because the people variables were of so little importance to the outcome. It looks like the reason it didn't work particularly well is because most of the variance for the three variables does not have any particular relationship with the outcome variable."
   ]
  },
  {
   "cell_type": "markdown",
   "metadata": {},
   "source": [
    "## Adding new features\n",
    "__Hypothesis:__ Adding features that are tranformations of features already existing in the dataset will decrease performance. Typically the reason to create features that are one feature multiplied by another, or one feature raised to a power, is because the data scientist is using linear regression of some sort and the data indicates the presence of a polynomial relationship. However, we are using an implementation of boosted gradient which does not make the same assumptions of linearity. Therefore, adding features that are in fact transformations of existing features will most likely make the model more sensitive to overfitting thereby decreasing model performance."
   ]
  },
  {
   "cell_type": "code",
   "execution_count": 97,
   "metadata": {},
   "outputs": [],
   "source": [
    "cnt += 1"
   ]
  },
  {
   "cell_type": "code",
   "execution_count": 98,
   "metadata": {},
   "outputs": [],
   "source": [
    "X = safe_drop(df, ['idno', 'cntry', 'year']).dropna()\n",
    "y = X.partner - 1\n",
    "X = safe_drop(X, 'partner')\n",
    "\n",
    "p = pca(n_components=2)\n",
    "p.fit(X.loc[:, X.columns[X.columns.str.contains('ppl')]])\n",
    "ppl = p.transform(X.loc[:, X.columns[X.columns.str.contains('ppl')]])"
   ]
  },
  {
   "cell_type": "code",
   "execution_count": 99,
   "metadata": {},
   "outputs": [],
   "source": [
    "X = pd.concat([safe_drop(X, ['ppltrst', 'pplhlp', 'pplfair']).reset_index(), \n",
    "           pd.DataFrame(ppl, columns=['ppl1', 'ppl2'])], axis=1).set_index('index')\n",
    "X.index.name = None"
   ]
  },
  {
   "cell_type": "code",
   "execution_count": 100,
   "metadata": {},
   "outputs": [],
   "source": [
    "# New feature of happy and ppl2\n",
    "X['happy_ppl'] = X.happy * X.ppl2\n",
    "\n",
    "# New feature, tvtot and sclmeet\n",
    "X['tvtot_sclact'] = X.tvtot * X.sclact\n",
    "\n",
    "# Sclact cubed\n",
    "X['sclmeet_sq'] = X.sclmeet**2"
   ]
  },
  {
   "cell_type": "code",
   "execution_count": 101,
   "metadata": {},
   "outputs": [
    {
     "name": "stdout",
     "output_type": "stream",
     "text": [
      "Elapsed time: 1.9429386899998917 seconds\n"
     ]
    }
   ],
   "source": [
    "# We'll make 250 iterations, use 2-deep trees, and set our loss function.\n",
    "params = {'n_estimators': 250,\n",
    "          'max_depth': 2,\n",
    "          'loss': 'deviance'}\n",
    "\n",
    "# Initialize and fit the model.\n",
    "clf = ensemble.GradientBoostingClassifier(**params)\n",
    "\n",
    "start = perf_counter()\n",
    "predictions = cvp(clf, X, y, cv=3)\n",
    "end = perf_counter()\n",
    "print('Elapsed time: {0} seconds'.format(end-start))"
   ]
  },
  {
   "cell_type": "code",
   "execution_count": 102,
   "metadata": {},
   "outputs": [],
   "source": [
    "summ = compute_acc(y, predictions)\n",
    "summ['time'] = end-start\n",
    "summ['model_no'] = cnt"
   ]
  },
  {
   "cell_type": "code",
   "execution_count": 103,
   "metadata": {},
   "outputs": [
    {
     "data": {
      "text/html": [
       "<div>\n",
       "<style scoped>\n",
       "    .dataframe tbody tr th:only-of-type {\n",
       "        vertical-align: middle;\n",
       "    }\n",
       "\n",
       "    .dataframe tbody tr th {\n",
       "        vertical-align: top;\n",
       "    }\n",
       "\n",
       "    .dataframe thead th {\n",
       "        text-align: right;\n",
       "    }\n",
       "</style>\n",
       "<table border=\"1\" class=\"dataframe\">\n",
       "  <thead>\n",
       "    <tr style=\"text-align: right;\">\n",
       "      <th></th>\n",
       "      <th>acc</th>\n",
       "      <th>type1</th>\n",
       "      <th>type2</th>\n",
       "      <th>time</th>\n",
       "      <th>model_no</th>\n",
       "    </tr>\n",
       "  </thead>\n",
       "  <tbody>\n",
       "    <tr>\n",
       "      <th>0</th>\n",
       "      <td>0.685651</td>\n",
       "      <td>0.119676</td>\n",
       "      <td>0.194673</td>\n",
       "      <td>0.000055</td>\n",
       "      <td>1.0</td>\n",
       "    </tr>\n",
       "    <tr>\n",
       "      <th>1</th>\n",
       "      <td>0.682143</td>\n",
       "      <td>0.119828</td>\n",
       "      <td>0.198030</td>\n",
       "      <td>0.000087</td>\n",
       "      <td>2.0</td>\n",
       "    </tr>\n",
       "    <tr>\n",
       "      <th>2</th>\n",
       "      <td>0.679146</td>\n",
       "      <td>0.123236</td>\n",
       "      <td>0.197619</td>\n",
       "      <td>8.152791</td>\n",
       "      <td>3.0</td>\n",
       "    </tr>\n",
       "    <tr>\n",
       "      <th>3</th>\n",
       "      <td>0.686510</td>\n",
       "      <td>0.117712</td>\n",
       "      <td>0.195778</td>\n",
       "      <td>2.016423</td>\n",
       "      <td>4.0</td>\n",
       "    </tr>\n",
       "    <tr>\n",
       "      <th>4</th>\n",
       "      <td>0.681110</td>\n",
       "      <td>0.116976</td>\n",
       "      <td>0.201915</td>\n",
       "      <td>1.934543</td>\n",
       "      <td>5.0</td>\n",
       "    </tr>\n",
       "    <tr>\n",
       "      <th>5</th>\n",
       "      <td>0.748251</td>\n",
       "      <td>0.059040</td>\n",
       "      <td>0.192709</td>\n",
       "      <td>1.624306</td>\n",
       "      <td>6.0</td>\n",
       "    </tr>\n",
       "    <tr>\n",
       "      <th>6</th>\n",
       "      <td>0.747146</td>\n",
       "      <td>0.058795</td>\n",
       "      <td>0.194059</td>\n",
       "      <td>1.503820</td>\n",
       "      <td>7.0</td>\n",
       "    </tr>\n",
       "    <tr>\n",
       "      <th>7</th>\n",
       "      <td>0.744446</td>\n",
       "      <td>0.059899</td>\n",
       "      <td>0.195655</td>\n",
       "      <td>1.942939</td>\n",
       "      <td>8.0</td>\n",
       "    </tr>\n",
       "  </tbody>\n",
       "</table>\n",
       "</div>"
      ],
      "text/plain": [
       "        acc     type1     type2      time  model_no\n",
       "0  0.685651  0.119676  0.194673  0.000055       1.0\n",
       "1  0.682143  0.119828  0.198030  0.000087       2.0\n",
       "2  0.679146  0.123236  0.197619  8.152791       3.0\n",
       "3  0.686510  0.117712  0.195778  2.016423       4.0\n",
       "4  0.681110  0.116976  0.201915  1.934543       5.0\n",
       "5  0.748251  0.059040  0.192709  1.624306       6.0\n",
       "6  0.747146  0.058795  0.194059  1.503820       7.0\n",
       "7  0.744446  0.059899  0.195655  1.942939       8.0"
      ]
     },
     "execution_count": 103,
     "metadata": {},
     "output_type": "execute_result"
    }
   ],
   "source": [
    "try:\n",
    "    result_summ.drop(result_summ.loc[result_summ.model_no==cnt].index, axis=0, inplace=True)\n",
    "except Exception as e:\n",
    "    print(e)\n",
    "\n",
    "result_summ = result_summ.append(summ, ignore_index=True)\n",
    "result_summ"
   ]
  },
  {
   "cell_type": "code",
   "execution_count": 104,
   "metadata": {},
   "outputs": [
    {
     "name": "stdout",
     "output_type": "stream",
     "text": [
      "Overall accuracy: 0.744\n",
      "Type I error: 0.060\n",
      "Type II error: 0.196\n",
      "Time elapsed: 1.9 seconds\n"
     ]
    }
   ],
   "source": [
    "print('Overall accuracy: {0:.3f}'.format(summ['acc']))\n",
    "print('Type I error: {0:.3f}'.format(summ['type1']))\n",
    "print('Type II error: {0:.3f}'.format(summ['type2']))\n",
    "print('Time elapsed: {0:.1f} seconds'.format(summ['time']))"
   ]
  },
  {
   "cell_type": "markdown",
   "metadata": {},
   "source": [
    "And I was right! Though it's slight, accuracy did decrease when transformed features were added on top of the original features."
   ]
  },
  {
   "cell_type": "markdown",
   "metadata": {},
   "source": [
    "### Feature importance"
   ]
  },
  {
   "cell_type": "code",
   "execution_count": 106,
   "metadata": {},
   "outputs": [
    {
     "data": {
      "image/png": "[encoded data removed]",
      "text/plain": [
       "<Figure size 432x288 with 1 Axes>"
      ]
     },
     "metadata": {
      "needs_background": "light"
     },
     "output_type": "display_data"
    }
   ],
   "source": [
    "from sklearn.model_selection import train_test_split as tts\n",
    "\n",
    "X_train, X_test, y_train, y_test = tts(X, y, test_size=0.33)\n",
    "\n",
    "clf.fit(X_train, y_train)\n",
    "\n",
    "feature_importance = clf.feature_importances_\n",
    "\n",
    "# Make importances relative to max importance.\n",
    "feature_importance = 100.0 * (feature_importance / feature_importance.max())\n",
    "sorted_idx = np.argsort(feature_importance)\n",
    "pos = np.arange(sorted_idx.shape[0]) + .5\n",
    "plt.subplot(1, 2, 2)\n",
    "plt.barh(pos, feature_importance[sorted_idx], align='center')\n",
    "plt.yticks(pos, X.columns[sorted_idx])\n",
    "plt.xlabel('Relative Importance')\n",
    "plt.title('Variable Importance')\n",
    "plt.show()"
   ]
  },
  {
   "cell_type": "code",
   "execution_count": 107,
   "metadata": {},
   "outputs": [
    {
     "data": {
      "text/html": [
       "<div>\n",
       "<style scoped>\n",
       "    .dataframe tbody tr th:only-of-type {\n",
       "        vertical-align: middle;\n",
       "    }\n",
       "\n",
       "    .dataframe tbody tr th {\n",
       "        vertical-align: top;\n",
       "    }\n",
       "\n",
       "    .dataframe thead th {\n",
       "        text-align: right;\n",
       "    }\n",
       "</style>\n",
       "<table border=\"1\" class=\"dataframe\">\n",
       "  <thead>\n",
       "    <tr style=\"text-align: right;\">\n",
       "      <th></th>\n",
       "      <th>acc</th>\n",
       "      <th>type1</th>\n",
       "      <th>type2</th>\n",
       "      <th>time</th>\n",
       "      <th>model_no</th>\n",
       "    </tr>\n",
       "  </thead>\n",
       "  <tbody>\n",
       "    <tr>\n",
       "      <th>0</th>\n",
       "      <td>0.685651</td>\n",
       "      <td>0.119676</td>\n",
       "      <td>0.194673</td>\n",
       "      <td>0.000055</td>\n",
       "      <td>1.0</td>\n",
       "    </tr>\n",
       "    <tr>\n",
       "      <th>1</th>\n",
       "      <td>0.682143</td>\n",
       "      <td>0.119828</td>\n",
       "      <td>0.198030</td>\n",
       "      <td>0.000087</td>\n",
       "      <td>2.0</td>\n",
       "    </tr>\n",
       "    <tr>\n",
       "      <th>2</th>\n",
       "      <td>0.679146</td>\n",
       "      <td>0.123236</td>\n",
       "      <td>0.197619</td>\n",
       "      <td>8.152791</td>\n",
       "      <td>3.0</td>\n",
       "    </tr>\n",
       "    <tr>\n",
       "      <th>3</th>\n",
       "      <td>0.686510</td>\n",
       "      <td>0.117712</td>\n",
       "      <td>0.195778</td>\n",
       "      <td>2.016423</td>\n",
       "      <td>4.0</td>\n",
       "    </tr>\n",
       "    <tr>\n",
       "      <th>4</th>\n",
       "      <td>0.681110</td>\n",
       "      <td>0.116976</td>\n",
       "      <td>0.201915</td>\n",
       "      <td>1.934543</td>\n",
       "      <td>5.0</td>\n",
       "    </tr>\n",
       "    <tr>\n",
       "      <th>5</th>\n",
       "      <td>0.748251</td>\n",
       "      <td>0.059040</td>\n",
       "      <td>0.192709</td>\n",
       "      <td>1.624306</td>\n",
       "      <td>6.0</td>\n",
       "    </tr>\n",
       "    <tr>\n",
       "      <th>6</th>\n",
       "      <td>0.747146</td>\n",
       "      <td>0.058795</td>\n",
       "      <td>0.194059</td>\n",
       "      <td>1.503820</td>\n",
       "      <td>7.0</td>\n",
       "    </tr>\n",
       "    <tr>\n",
       "      <th>7</th>\n",
       "      <td>0.744446</td>\n",
       "      <td>0.059899</td>\n",
       "      <td>0.195655</td>\n",
       "      <td>1.942939</td>\n",
       "      <td>8.0</td>\n",
       "    </tr>\n",
       "  </tbody>\n",
       "</table>\n",
       "</div>"
      ],
      "text/plain": [
       "        acc     type1     type2      time  model_no\n",
       "0  0.685651  0.119676  0.194673  0.000055       1.0\n",
       "1  0.682143  0.119828  0.198030  0.000087       2.0\n",
       "2  0.679146  0.123236  0.197619  8.152791       3.0\n",
       "3  0.686510  0.117712  0.195778  2.016423       4.0\n",
       "4  0.681110  0.116976  0.201915  1.934543       5.0\n",
       "5  0.748251  0.059040  0.192709  1.624306       6.0\n",
       "6  0.747146  0.058795  0.194059  1.503820       7.0\n",
       "7  0.744446  0.059899  0.195655  1.942939       8.0"
      ]
     },
     "execution_count": 107,
     "metadata": {},
     "output_type": "execute_result"
    }
   ],
   "source": [
    "result_summ"
   ]
  },
  {
   "cell_type": "markdown",
   "metadata": {},
   "source": [
    "# Model 9: Increasing Tree Depth\n",
    "__Hypothesis:__ Increasing tree depth will lead to worse accuracy due to overfitting, and the relatively few variables that are actually important for predicting parter state."
   ]
  },
  {
   "cell_type": "code",
   "execution_count": 108,
   "metadata": {},
   "outputs": [],
   "source": [
    "cnt += 1"
   ]
  },
  {
   "cell_type": "code",
   "execution_count": 114,
   "metadata": {},
   "outputs": [],
   "source": [
    "X = safe_drop(df, ['cntry', 'idno', 'year']).dropna()\n",
    "y = X.partner - 1\n",
    "X = safe_drop(X, 'partner')"
   ]
  },
  {
   "cell_type": "code",
   "execution_count": 115,
   "metadata": {},
   "outputs": [],
   "source": [
    "# We'll make 250 iterations, use 2-deep trees, and set our loss function.\n",
    "params = {'n_estimators': 250,\n",
    "          'max_depth': 4,\n",
    "          'loss': 'deviance'}\n",
    "\n",
    "# Initialize and fit the model.\n",
    "clf = ensemble.GradientBoostingClassifier(**params)\n",
    "\n",
    "start = perf_counter()\n",
    "predictions = cvp(clf, X, y, cv=3)\n",
    "end = perf_counter()"
   ]
  },
  {
   "cell_type": "code",
   "execution_count": 116,
   "metadata": {},
   "outputs": [],
   "source": [
    "summ = compute_acc(y, predictions)\n",
    "summ['time'] = end-start\n",
    "summ['model_no'] = cnt"
   ]
  },
  {
   "cell_type": "code",
   "execution_count": 117,
   "metadata": {},
   "outputs": [
    {
     "data": {
      "text/html": [
       "<div>\n",
       "<style scoped>\n",
       "    .dataframe tbody tr th:only-of-type {\n",
       "        vertical-align: middle;\n",
       "    }\n",
       "\n",
       "    .dataframe tbody tr th {\n",
       "        vertical-align: top;\n",
       "    }\n",
       "\n",
       "    .dataframe thead th {\n",
       "        text-align: right;\n",
       "    }\n",
       "</style>\n",
       "<table border=\"1\" class=\"dataframe\">\n",
       "  <thead>\n",
       "    <tr style=\"text-align: right;\">\n",
       "      <th></th>\n",
       "      <th>acc</th>\n",
       "      <th>type1</th>\n",
       "      <th>type2</th>\n",
       "      <th>time</th>\n",
       "      <th>model_no</th>\n",
       "    </tr>\n",
       "  </thead>\n",
       "  <tbody>\n",
       "    <tr>\n",
       "      <th>0</th>\n",
       "      <td>0.685651</td>\n",
       "      <td>0.119676</td>\n",
       "      <td>0.194673</td>\n",
       "      <td>0.000055</td>\n",
       "      <td>1.0</td>\n",
       "    </tr>\n",
       "    <tr>\n",
       "      <th>1</th>\n",
       "      <td>0.682143</td>\n",
       "      <td>0.119828</td>\n",
       "      <td>0.198030</td>\n",
       "      <td>0.000087</td>\n",
       "      <td>2.0</td>\n",
       "    </tr>\n",
       "    <tr>\n",
       "      <th>2</th>\n",
       "      <td>0.679146</td>\n",
       "      <td>0.123236</td>\n",
       "      <td>0.197619</td>\n",
       "      <td>8.152791</td>\n",
       "      <td>3.0</td>\n",
       "    </tr>\n",
       "    <tr>\n",
       "      <th>3</th>\n",
       "      <td>0.686510</td>\n",
       "      <td>0.117712</td>\n",
       "      <td>0.195778</td>\n",
       "      <td>2.016423</td>\n",
       "      <td>4.0</td>\n",
       "    </tr>\n",
       "    <tr>\n",
       "      <th>4</th>\n",
       "      <td>0.681110</td>\n",
       "      <td>0.116976</td>\n",
       "      <td>0.201915</td>\n",
       "      <td>1.934543</td>\n",
       "      <td>5.0</td>\n",
       "    </tr>\n",
       "    <tr>\n",
       "      <th>5</th>\n",
       "      <td>0.748251</td>\n",
       "      <td>0.059040</td>\n",
       "      <td>0.192709</td>\n",
       "      <td>1.624306</td>\n",
       "      <td>6.0</td>\n",
       "    </tr>\n",
       "    <tr>\n",
       "      <th>6</th>\n",
       "      <td>0.747146</td>\n",
       "      <td>0.058795</td>\n",
       "      <td>0.194059</td>\n",
       "      <td>1.503820</td>\n",
       "      <td>7.0</td>\n",
       "    </tr>\n",
       "    <tr>\n",
       "      <th>7</th>\n",
       "      <td>0.744446</td>\n",
       "      <td>0.059899</td>\n",
       "      <td>0.195655</td>\n",
       "      <td>1.942939</td>\n",
       "      <td>8.0</td>\n",
       "    </tr>\n",
       "    <tr>\n",
       "      <th>8</th>\n",
       "      <td>0.734381</td>\n",
       "      <td>0.076470</td>\n",
       "      <td>0.189149</td>\n",
       "      <td>3.726293</td>\n",
       "      <td>9.0</td>\n",
       "    </tr>\n",
       "  </tbody>\n",
       "</table>\n",
       "</div>"
      ],
      "text/plain": [
       "        acc     type1     type2      time  model_no\n",
       "0  0.685651  0.119676  0.194673  0.000055       1.0\n",
       "1  0.682143  0.119828  0.198030  0.000087       2.0\n",
       "2  0.679146  0.123236  0.197619  8.152791       3.0\n",
       "3  0.686510  0.117712  0.195778  2.016423       4.0\n",
       "4  0.681110  0.116976  0.201915  1.934543       5.0\n",
       "5  0.748251  0.059040  0.192709  1.624306       6.0\n",
       "6  0.747146  0.058795  0.194059  1.503820       7.0\n",
       "7  0.744446  0.059899  0.195655  1.942939       8.0\n",
       "8  0.734381  0.076470  0.189149  3.726293       9.0"
      ]
     },
     "execution_count": 117,
     "metadata": {},
     "output_type": "execute_result"
    }
   ],
   "source": [
    "try:\n",
    "    result_summ.drop(result_summ.loc[result_summ.model_no==cnt].index, axis=0, inplace=True)\n",
    "except Exception as e:\n",
    "    print(e)\n",
    "\n",
    "result_summ = result_summ.append(summ, ignore_index=True)\n",
    "result_summ"
   ]
  },
  {
   "cell_type": "code",
   "execution_count": 118,
   "metadata": {},
   "outputs": [
    {
     "name": "stdout",
     "output_type": "stream",
     "text": [
      "Overall accuracy: 0.734\n",
      "Type I error: 0.076\n",
      "Type II error: 0.189\n",
      "Time elapsed: 3.7 seconds\n"
     ]
    }
   ],
   "source": [
    "print('Overall accuracy: {0:.3f}'.format(summ['acc']))\n",
    "print('Type I error: {0:.3f}'.format(summ['type1']))\n",
    "print('Type II error: {0:.3f}'.format(summ['type2']))\n",
    "print('Time elapsed: {0:.1f} seconds'.format(summ['time']))"
   ]
  },
  {
   "cell_type": "markdown",
   "metadata": {},
   "source": [
    "And my hypothesis was correct. With all other hyperparameters the same as model 6--250 trees; dropped country, year, and id--increasing the depth of the trees decreased model performance."
   ]
  },
  {
   "cell_type": "markdown",
   "metadata": {},
   "source": [
    "# Comparing Accuracies"
   ]
  },
  {
   "cell_type": "code",
   "execution_count": 129,
   "metadata": {},
   "outputs": [
    {
     "data": {
      "image/png": "[encoded data removed]",
      "text/plain": [
       "<Figure size 1440x576 with 1 Axes>"
      ]
     },
     "metadata": {
      "needs_background": "light"
     },
     "output_type": "display_data"
    }
   ],
   "source": [
    "result_summ.loc[:, 'model_no'] = result_summ.model_no.astype('str')\n",
    "f, ax = plt.subplots(figsize=(20, 8))\n",
    "sns.scatterplot('type1', 'type2', data=result_summ, hue='model_no', size='time', \n",
    "                palette = ['lightsalmon', 'gold', 'orchid', 'black',\n",
    "                           'mediumspringgreen', 'lightpink', 'aquamarine', \n",
    "                           'deepskyblue', 'rosybrown'],ax=ax)\n",
    "plt.title('Type1 and Type2 accuracies of all 9 models compared')\n",
    "plt.xlabel('Type 1 Error')\n",
    "plt.ylabel('Type 2 Error')\n",
    "plt.show()"
   ]
  },
  {
   "cell_type": "markdown",
   "metadata": {},
   "source": [
    "I'll talk about Type 1 and Type 2 error below in more detail, but one interesting observation is that, in this case, the models that were less computationally intensive were also more accurate. This is most likely because computational time in gradient boosting is closely tied to the number of trees and more trees led to more overfitting for this particular dataset."
   ]
  },
  {
   "cell_type": "markdown",
   "metadata": {},
   "source": [
    "# Conclusion\n",
    "- Feature selection can have a bigger impact on model performance than hyperparameter tuning;\n",
    "- Adding transformations of features to account for polynommial relationships between the indicator and outcome variable does not help and in fact decreases performance in tree-based models because these models do not make the same assumptions about linearity. Additionally, gradient boosting is already prone to overfitting and highly correlated variables probably don't help with that; \n",
    "- Starting with very simple weak performers can still lead to decent results when using ensemble methods;\n",
    "- Gradient boosting appears to be a less time-consuming method compared to SVM; and\n",
    "- There is no best model. Something I missed the first time through this experiment is that increasing tree depth (model 9) lowered overall accuracy but increased sensitivity (false negatives). On the other hamd, combining correlated variables in addition to dropping less important features (model 9) led to the highest precision and the lowest Type I error."
   ]
  }
 ],
 "metadata": {
  "kernelspec": {
   "display_name": "Python 3",
   "language": "python",
   "name": "python3"
  },
  "language_info": {
   "codemirror_mode": {
    "name": "ipython",
    "version": 3
   },
   "file_extension": ".py",
   "mimetype": "text/x-python",
   "name": "python",
   "nbconvert_exporter": "python",
   "pygments_lexer": "ipython3",
   "version": "3.7.3"
  }
 },
 "nbformat": 4,
 "nbformat_minor": 2
}
