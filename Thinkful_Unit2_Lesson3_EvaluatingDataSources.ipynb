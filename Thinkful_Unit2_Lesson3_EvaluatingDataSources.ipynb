{
 "cells": [
  {
   "cell_type": "markdown",
   "metadata": {},
   "source": [
    "## Amersterdam on AirBnB on Christmas Eve\n",
    "__Data Source:__ Amsterdam availability data scraped from AirBnB on December 24th.\n",
    "<br><br>\n",
    "__Question:__ What are the popular neighborhoods in Amsterdam?\n",
    "<br><br>\n",
    "__Reframed Question:__ What neighborhoods in Amsterdam are popular at Christmas among cost-conscious individuals?"
   ]
  },
  {
   "cell_type": "markdown",
   "metadata": {},
   "source": [
    "## Mental Health Services the Day After 9/11\n",
    "__Data Source:__ Mental health services use on September 12, 2001 in San Francisco, CA and New York City, NY.\n",
    "<br><br>\n",
    "__Question:__ How do patterns of mental health service use vary between cities?\n",
    "<br><br>\n",
    "__Refranmed Question:__ How did patterns of mental health service use vary between New York and California following 9/11?"
   ]
  },
  {
   "cell_type": "markdown",
   "metadata": {},
   "source": [
    "## The American University of Armenia Pub Survey\n",
    "__Data Source:__ Armenian Pub Survey.\n",
    "<br><br>\n",
    "__Question:__ What are the most common reasons Armenians visit local pubs?\n",
    "<br><br>\n",
    "__Reframed Question:__ What are the most common reasons that (English speaking?) students visit local Armenian pubs?\n",
    "This survey was developed and administered by students of the American University of Armenia, and 93% of respondents were some kind of student. 70% listed themselves as primarily students, while 23% of respondents were working and enrolled in some kind of program. Also, the survey does not specify the language in which it was administered, however we know that it was administered by students of the American University of Armenia, and that these students are English speakers, since the graduate requirements include English proficiency. This suggests, therefore, that the survey was conducted in English. If that was the case, the results may not reflect even the Armenian student population, Since English speaking students may represent a unique demographic among Armenian students."
   ]
  }
 ],
 "metadata": {
  "kernelspec": {
   "display_name": "Python 3",
   "language": "python",
   "name": "python3"
  },
  "language_info": {
   "codemirror_mode": {
    "name": "ipython",
    "version": 3
   },
   "file_extension": ".py",
   "mimetype": "text/x-python",
   "name": "python",
   "nbconvert_exporter": "python",
   "pygments_lexer": "ipython3",
   "version": "3.7.2"
  }
 },
 "nbformat": 4,
 "nbformat_minor": 2
}
