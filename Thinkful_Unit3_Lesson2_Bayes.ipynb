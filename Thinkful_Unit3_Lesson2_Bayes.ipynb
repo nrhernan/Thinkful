{
 "cells": [
  {
   "cell_type": "markdown",
   "metadata": {},
   "source": [
    "# Exercies in Bayes Rule"
   ]
  },
  {
   "cell_type": "markdown",
   "metadata": {},
   "source": [
    "## Question 1\n",
    "<p>A diagnostic test has a 98% probability of giving a positive result when applied to a person suffering from Thripshaw's Disease, and 10% probability of giving a (false) positive when applied to a non-sufferer. It is estimated that 0.5 % of the population are sufferers. Suppose that the test is now administered to a person whose disease status is unknown. Calculate the probability that the test will:</p>\n",
    "<ol>\n",
    "    <li>Be positive: 0.1 (see work below)</li>\n",
    "    <li>Correctly diagnose a sufferer of Thripshaw's: 0.05 or 5%</li>\n",
    "    <li>Correctly identify a non-sufferer of Thripshaw's: almost 100%, 0.9999</li>\n",
    "    <li>Misclassify the person: ~10% (0.0996)</li>\n",
    "</ol>\n",
    "<p>NOTE: I think I misunderstood some of these questions. I thought questions 2 and 3 were asking about the probability that the diagnosis was correct given an unknown status.</p>"
   ]
  },
  {
   "cell_type": "code",
   "execution_count": 6,
   "metadata": {},
   "outputs": [
    {
     "name": "stdout",
     "output_type": "stream",
     "text": [
      "0.1044\n"
     ]
    }
   ],
   "source": [
    "# 1 - Probability that the result will identify the person is sick, regardless of the person's true status\n",
    "# p(+) = p(+|sick)*p(sick) + p(+|well)*p(well)\n",
    "p_true_sick = 0.98*.005\n",
    "p_false_sick = 0.1*0.995\n",
    "p_id  = p_true_sick + p_false_sick\n",
    "print(p_id)"
   ]
  },
  {
   "cell_type": "code",
   "execution_count": 9,
   "metadata": {},
   "outputs": [
    {
     "name": "stdout",
     "output_type": "stream",
     "text": [
      "0.046934865900383135\n"
     ]
    }
   ],
   "source": [
    "# 2- Probability of correctly diagnosing a sufferer of Thripshaw's\n",
    "# p(sick|+) = p(+|sick)*p(sick)/[p(+|sick)*p(sick) + p(+|well)*p(well)]\n",
    "p_sick_given_sick = p_true_sick/(p_true_sick + p_false_sick)\n",
    "print(p_sick_given_sick)"
   ]
  },
  {
   "cell_type": "code",
   "execution_count": 11,
   "metadata": {},
   "outputs": [
    {
     "name": "stdout",
     "output_type": "stream",
     "text": [
      "0.9998883430102724\n"
     ]
    }
   ],
   "source": [
    "# 3 - Correctly identify a non-sufferer of Thripshaw's\n",
    "# p(well|-) = p(-|well)*p(well)/[p(-|well)*p(well) + p(-|sick)*p(sick)]\n",
    "p_true_neg = 0.995*0.9\n",
    "p_false_neg = 0.005*0.02\n",
    "\n",
    "prob_well_given_well = p_true_neg/(p_true_neg + p_false_neg)\n",
    "print(prob_well_given_well)"
   ]
  },
  {
   "cell_type": "code",
   "execution_count": 12,
   "metadata": {},
   "outputs": [
    {
     "name": "stdout",
     "output_type": "stream",
     "text": [
      "0.09960000000000001\n"
     ]
    }
   ],
   "source": [
    "# 4 - Probability the test will misclassify someone\n",
    "p_false = p_false_neg + p_false_sick\n",
    "print(p_false)"
   ]
  }
 ],
 "metadata": {
  "kernelspec": {
   "display_name": "Python 3",
   "language": "python",
   "name": "python3"
  },
  "language_info": {
   "codemirror_mode": {
    "name": "ipython",
    "version": 3
   },
   "file_extension": ".py",
   "mimetype": "text/x-python",
   "name": "python",
   "nbconvert_exporter": "python",
   "pygments_lexer": "ipython3",
   "version": "3.7.2"
  }
 },
 "nbformat": 4,
 "nbformat_minor": 2
}
