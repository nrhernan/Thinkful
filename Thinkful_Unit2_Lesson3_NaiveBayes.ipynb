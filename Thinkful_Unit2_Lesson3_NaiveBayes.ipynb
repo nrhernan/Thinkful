{
 "cells": [
  {
   "cell_type": "markdown",
   "metadata": {},
   "source": [
    "Title: Thinkful Unit 2 Lesson 3, Naive Bayes\n",
    "<br>Author: Naomi Hernandez\n",
    "<br>Date: 2019-04-25"
   ]
  },
  {
   "cell_type": "code",
   "execution_count": 4,
   "metadata": {},
   "outputs": [],
   "source": [
    "import numpy as np\n",
    "import pandas as pd\n",
    "import matplotlib.pyplot as plt\n",
    "import seaborn as sns\n",
    "import sklearn\n",
    "import scipy\n",
    "import os\n",
    "from glob import glob as glb\n",
    "import re\n",
    "from sklearn.naive_bayes import BernoulliNB\n",
    "from sklearn.model_selection import cross_val_score"
   ]
  },
  {
   "cell_type": "code",
   "execution_count": 11,
   "metadata": {},
   "outputs": [],
   "source": [
    "def make_features(data_frame, metadata, md_col, text_col='text_raw'):\n",
    "    results = data_frame.copy()\n",
    "    for r in metadata.index:\n",
    "        results.loc[:, metadata.loc[r, 'label']] = new[text_col].str.contains(metadata.loc[r, md_col], case=False)\n",
    "    \n",
    "    return(results)"
   ]
  },
  {
   "cell_type": "code",
   "execution_count": 12,
   "metadata": {},
   "outputs": [],
   "source": [
    "def grep_like(patt, x):\n",
    "    try:\n",
    "        lst = re.findall(patt, x)\n",
    "        if len(lst)>0:\n",
    "            result = lst[0]\n",
    "        else:\n",
    "            result=None\n",
    "        return(result)\n",
    "    \n",
    "    except Exception as e:\n",
    "        print(e)\n",
    "        return(None)\n",
    "    \n",
    "    # re.findall('.*amazon.*', files[0])"
   ]
  },
  {
   "cell_type": "code",
   "execution_count": 5,
   "metadata": {},
   "outputs": [],
   "source": [
    "path = \"H:/Documents/Training/Thinkful/sentiment_labelled_sentences/sls\""
   ]
  },
  {
   "cell_type": "code",
   "execution_count": 7,
   "metadata": {},
   "outputs": [],
   "source": [
    "files = glb('{}/*.txt'.format(path))\n",
    "\n",
    "am = list(filter(lambda x: x!= None, map(lambda x: grep_like('.*amazon.*', x), files)))[0]"
   ]
  },
  {
   "cell_type": "code",
   "execution_count": 8,
   "metadata": {},
   "outputs": [
    {
     "data": {
      "text/html": [
       "<div>\n",
       "<style scoped>\n",
       "    .dataframe tbody tr th:only-of-type {\n",
       "        vertical-align: middle;\n",
       "    }\n",
       "\n",
       "    .dataframe tbody tr th {\n",
       "        vertical-align: top;\n",
       "    }\n",
       "\n",
       "    .dataframe thead th {\n",
       "        text-align: right;\n",
       "    }\n",
       "</style>\n",
       "<table border=\"1\" class=\"dataframe\">\n",
       "  <thead>\n",
       "    <tr style=\"text-align: right;\">\n",
       "      <th></th>\n",
       "      <th>text_raw</th>\n",
       "      <th>target</th>\n",
       "    </tr>\n",
       "  </thead>\n",
       "  <tbody>\n",
       "    <tr>\n",
       "      <th>0</th>\n",
       "      <td>So there is no way for me to plug it in here i...</td>\n",
       "      <td>0</td>\n",
       "    </tr>\n",
       "    <tr>\n",
       "      <th>1</th>\n",
       "      <td>Good case, Excellent value.</td>\n",
       "      <td>1</td>\n",
       "    </tr>\n",
       "    <tr>\n",
       "      <th>2</th>\n",
       "      <td>Great for the jawbone.</td>\n",
       "      <td>1</td>\n",
       "    </tr>\n",
       "    <tr>\n",
       "      <th>3</th>\n",
       "      <td>Tied to charger for conversations lasting more...</td>\n",
       "      <td>0</td>\n",
       "    </tr>\n",
       "    <tr>\n",
       "      <th>4</th>\n",
       "      <td>The mic is great.</td>\n",
       "      <td>1</td>\n",
       "    </tr>\n",
       "  </tbody>\n",
       "</table>\n",
       "</div>"
      ],
      "text/plain": [
       "                                            text_raw  target\n",
       "0  So there is no way for me to plug it in here i...       0\n",
       "1                        Good case, Excellent value.       1\n",
       "2                             Great for the jawbone.       1\n",
       "3  Tied to charger for conversations lasting more...       0\n",
       "4                                  The mic is great.       1"
      ]
     },
     "execution_count": 8,
     "metadata": {},
     "output_type": "execute_result"
    }
   ],
   "source": [
    "raw = pd.read_csv(am, sep='\\t', header=None, names=['text_raw', 'target'])\n",
    "raw.head()"
   ]
  },
  {
   "cell_type": "markdown",
   "metadata": {},
   "source": [
    "#### Word and case-based features"
   ]
  },
  {
   "cell_type": "code",
   "execution_count": 9,
   "metadata": {},
   "outputs": [],
   "source": [
    "# Positive and negative key words\n",
    "neg = [r'no\\s*way', 'fooled', 'mislea?d(ing)?', 'problem',\n",
    "       'unacceptable', 'hate', 'unusable', 'poor', 'disappoint', \n",
    "       'n[o\\']t *recommend', r'broke(n)?', 'flimsy']\n",
    "pos = ['good', 'excellent', r'(?<!(not ))great',\n",
    "       r'(?<!(not ))impressed', r'(?<!(not ))recommend',\n",
    "       'love', 'best', r'(?<!(not ))ideal', 'high', 'well', 'fine', 'happy', 'delight']\n",
    "\n",
    "labels = {r'no\\s*way': 'no_way', 'mislea?d(ing)?': 'mislead',\n",
    "        'n[o\\']t *recommend': 'not_recommend', r'broke(n)?': 'broken',\n",
    "       r'(?<!(not ))great': 'great', r'(?<!(not ))impressed': 'impressed',\n",
    "       r'(?<!(not ))recommend': 'recommend', r'(?<!(not ))ideal': 'ideal'}"
   ]
  },
  {
   "cell_type": "code",
   "execution_count": 10,
   "metadata": {
    "scrolled": true
   },
   "outputs": [],
   "source": [
    "# Creating dataframe for labels and keywords to generate nicely labeled columns\n",
    "md = pd.DataFrame(columns=['positive', 'keyword', 'bkey'])\n",
    "md.loc[:, 'keyword'] = neg\n",
    "md.loc[:, 'positive'] = 0\n",
    "\n",
    "md = pd.concat([md, pd.DataFrame(pos, columns=['keyword'])], sort=False)\\\n",
    "    .reset_index().drop('index', axis=1)\n",
    "md.loc[md.positive != 0, 'positive'] = 1\n",
    "md.loc[md.keyword.str.contains(r'[\\\\s\\(\\[]'), 'bkey'] = md.keyword.apply(lambda x: r'{0}\\b'.format(x))\n",
    "md.loc[md.bkey.isna(), 'bkey'] = md.keyword.apply(lambda x: r'\\b{0}\\b'.format(x))\n",
    "md.loc[:, 'label'] = md.keyword\n",
    "\n",
    "# Fixing labels\n",
    "for k in labels:\n",
    "    md.loc[md.keyword==k, 'label'] = labels[k]\n",
    "\n",
    "# Create pass from simple labels\n",
    "md['simple'] = md.label.str.replace('_', ' ').apply(lambda x: r'\\b{0}\\b'.format(x))\n",
    "\n",
    "# md"
   ]
  },
  {
   "cell_type": "markdown",
   "metadata": {},
   "source": [
    "## Investigating error\n",
    "### Class balance\n",
    "Since we want to outperform the baseline class distributions, we first need to calculate the relative distributions. As it turns out, our dataset is split exactly 50-50 between our two classes--positive and negative reviews. Any accuracy above 50% is therefore an improvement compared to baseline."
   ]
  },
  {
   "cell_type": "code",
   "execution_count": 128,
   "metadata": {},
   "outputs": [
    {
     "name": "stdout",
     "output_type": "stream",
     "text": [
      "Positive    500\n",
      "Negative    500\n",
      "Name: target, dtype: int64\n"
     ]
    }
   ],
   "source": [
    "print(raw.target.value_counts().rename({1: 'Positive', 0: 'Negative'}))"
   ]
  },
  {
   "cell_type": "markdown",
   "metadata": {},
   "source": [
    "## Model 1: Simple keywords\n",
    "The first iteration of this model uses simple keywords, without taking negation into account."
   ]
  },
  {
   "cell_type": "code",
   "execution_count": 13,
   "metadata": {},
   "outputs": [
    {
     "data": {
      "text/plain": [
       "27"
      ]
     },
     "execution_count": 13,
     "metadata": {},
     "output_type": "execute_result"
    }
   ],
   "source": [
    "new = raw[['text_raw', 'target']].copy()\n",
    "\n",
    "for r in md.index:\n",
    "    new[md.loc[r, 'label']] = new.text_raw.str.contains(md.loc[r, 'simple'], case=False)\n",
    "\n",
    "len(new.columns)"
   ]
  },
  {
   "cell_type": "code",
   "execution_count": 15,
   "metadata": {},
   "outputs": [],
   "source": [
    "drp = ['target', 'text_raw']\n",
    "data = new.drop(drp, axis=1)\n",
    "target = new.target"
   ]
  },
  {
   "cell_type": "code",
   "execution_count": 36,
   "metadata": {},
   "outputs": [
    {
     "name": "stdout",
     "output_type": "stream",
     "text": [
      "Mean accuracy using 5 folds: 0.735\n",
      "Standard deviation using 5 folds: 0.021\n",
      "Percent improvement from baseline: 47.0%\n",
      "Accuracy values: 0.76, 0.755, 0.735, 0.705, 0.72\n"
     ]
    }
   ],
   "source": [
    "from functools import reduce\n",
    "\n",
    "# Instantiate model and store it in a new variable.\n",
    "bnb = BernoulliNB()\n",
    "\n",
    "# Checking accueracy with cross validation, folds=5\n",
    "cv = cross_val_score(bnb, data, target, cv=5)\n",
    "print('Mean accuracy using 5 folds: {0}'.format(cv.mean()))\n",
    "print('Standard deviation using 5 folds: {0}'.format(round(cv.std(), ndigits=3)))\n",
    "print('Percent improvement from baseline: {0}%'.format(((cv.mean()-0.5)/0.5)*100))\n",
    "print('Accuracy values: {0}'.format(reduce(lambda x, y: str(x)+', '+str(y), cv)))"
   ]
  },
  {
   "cell_type": "code",
   "execution_count": 75,
   "metadata": {},
   "outputs": [
    {
     "data": {
      "text/html": [
       "<div>\n",
       "<style scoped>\n",
       "    .dataframe tbody tr th:only-of-type {\n",
       "        vertical-align: middle;\n",
       "    }\n",
       "\n",
       "    .dataframe tbody tr th {\n",
       "        vertical-align: top;\n",
       "    }\n",
       "\n",
       "    .dataframe thead th {\n",
       "        text-align: right;\n",
       "    }\n",
       "</style>\n",
       "<table border=\"1\" class=\"dataframe\">\n",
       "  <thead>\n",
       "    <tr style=\"text-align: right;\">\n",
       "      <th></th>\n",
       "      <th>Predicted negative</th>\n",
       "      <th>Predicted positive</th>\n",
       "    </tr>\n",
       "  </thead>\n",
       "  <tbody>\n",
       "    <tr>\n",
       "      <th>True negative</th>\n",
       "      <td>95</td>\n",
       "      <td>0</td>\n",
       "    </tr>\n",
       "    <tr>\n",
       "      <th>True positive</th>\n",
       "      <td>51</td>\n",
       "      <td>54</td>\n",
       "    </tr>\n",
       "  </tbody>\n",
       "</table>\n",
       "</div>"
      ],
      "text/plain": [
       "               Predicted negative  Predicted positive\n",
       "True negative                  95                   0\n",
       "True positive                  51                  54"
      ]
     },
     "execution_count": 75,
     "metadata": {},
     "output_type": "execute_result"
    }
   ],
   "source": [
    "from sklearn.model_selection import train_test_split\n",
    "X_train, X_test, y_train, y_test = train_test_split(data, target, test_size=0.2, random_state=20)\n",
    "model = bnb.fit(X_train, y_train)\n",
    "y_pred = model.predict(X_test)\n",
    "confus = pd.crosstab(y_test, y_pred).set_index(pd.Index(['True negative', 'True positive'], name=None))\n",
    "confus.columns = pd.Series(['Predicted negative', 'Predicted positive'], name=None)\n",
    "confus"
   ]
  },
  {
   "cell_type": "markdown",
   "metadata": {},
   "source": [
    "#### Features identifying positive reviews"
   ]
  },
  {
   "cell_type": "code",
   "execution_count": 133,
   "metadata": {},
   "outputs": [
    {
     "data": {
      "image/png": "[encoded data removed]",
      "text/plain": [
       "<Figure size 432x288 with 2 Axes>"
      ]
     },
     "metadata": {
      "needs_background": "light"
     },
     "output_type": "display_data"
    },
    {
     "data": {
      "text/plain": [
       "target       1.000000\n",
       "great        0.293961\n",
       "good         0.183366\n",
       "excellent    0.154242\n",
       "love         0.142857\n",
       "well         0.136164\n",
       "best         0.122713\n",
       "fine         0.097110\n",
       "happy        0.090496\n",
       "recommend    0.087976\n",
       "ideal        0.031639\n",
       "high         0.014178\n",
       "impressed    0.010589\n",
       "delight           NaN\n",
       "Name: target, dtype: float64"
      ]
     },
     "execution_count": 133,
     "metadata": {},
     "output_type": "execute_result"
    }
   ],
   "source": [
    "pcorr = new[['target']+list(md.loc[md.positive==1, 'label'])].corr()\n",
    "\n",
    "sns.heatmap(pcorr.abs(), cmap='bwr', square=True)\n",
    "plt.show()\n",
    "\n",
    "pcorr['target'].sort_values(ascending=False)"
   ]
  },
  {
   "cell_type": "markdown",
   "metadata": {},
   "source": [
    "#### Features identifying negative reviews"
   ]
  },
  {
   "cell_type": "code",
   "execution_count": 134,
   "metadata": {
    "scrolled": false
   },
   "outputs": [
    {
     "data": {
      "image/png": "[encoded data removed]",
      "text/plain": [
       "<Figure size 432x288 with 2 Axes>"
      ]
     },
     "metadata": {
      "needs_background": "light"
     },
     "output_type": "display_data"
    },
    {
     "name": "stdout",
     "output_type": "stream",
     "text": [
      "target           1.000000\n",
      "no_way          -0.031639\n",
      "fooled          -0.031639\n",
      "disappoint      -0.031639\n",
      "problem         -0.044141\n",
      "broken          -0.044766\n",
      "unacceptable    -0.044766\n",
      "flimsy          -0.044766\n",
      "unusable        -0.044766\n",
      "hate            -0.063372\n",
      "not_recommend   -0.063372\n",
      "poor            -0.119159\n",
      "mislead               NaN\n",
      "Name: target, dtype: float64\n"
     ]
    }
   ],
   "source": [
    "ncorr = new[['target']+list(md.loc[md.positive==0, 'label'])].corr()\n",
    "sns.heatmap(ncorr.abs(), cmap='bwr')\n",
    "plt.show()\n",
    "\n",
    "print(ncorr['target'].sort_values(ascending=False))"
   ]
  },
  {
   "cell_type": "code",
   "execution_count": 142,
   "metadata": {},
   "outputs": [
    {
     "data": {
      "text/plain": [
       "0    1\n",
       "Name: target, dtype: int64"
      ]
     },
     "execution_count": 142,
     "metadata": {},
     "output_type": "execute_result"
    }
   ],
   "source": [
    "new.loc[new.disappoint==True, 'target'].value_counts()"
   ]
  },
  {
   "cell_type": "markdown",
   "metadata": {},
   "source": [
    "## Model 2: Negation and Stems\n",
    "One place we might have for improvement is to see whether we have any improvement if we try to anticipate negations ('not good' vs. 'good') and some stemming (e.g., mapping 'disappointing' as well as 'disappoint')."
   ]
  },
  {
   "cell_type": "code",
   "execution_count": 76,
   "metadata": {},
   "outputs": [
    {
     "name": "stderr",
     "output_type": "stream",
     "text": [
      "C:\\Users\\dmnb4898\\miniconda3\\envs\\Env37\\lib\\site-packages\\ipykernel_launcher.py:4: UserWarning: This pattern has match groups. To actually get the groups, use str.extract.\n",
      "  after removing the cwd from sys.path.\n",
      "C:\\Users\\dmnb4898\\miniconda3\\envs\\Env37\\lib\\site-packages\\ipykernel_launcher.py:4: UserWarning: This pattern has match groups. To actually get the groups, use str.extract.\n",
      "  after removing the cwd from sys.path.\n",
      "C:\\Users\\dmnb4898\\miniconda3\\envs\\Env37\\lib\\site-packages\\ipykernel_launcher.py:4: UserWarning: This pattern has match groups. To actually get the groups, use str.extract.\n",
      "  after removing the cwd from sys.path.\n",
      "C:\\Users\\dmnb4898\\miniconda3\\envs\\Env37\\lib\\site-packages\\ipykernel_launcher.py:4: UserWarning: This pattern has match groups. To actually get the groups, use str.extract.\n",
      "  after removing the cwd from sys.path.\n",
      "C:\\Users\\dmnb4898\\miniconda3\\envs\\Env37\\lib\\site-packages\\ipykernel_launcher.py:4: UserWarning: This pattern has match groups. To actually get the groups, use str.extract.\n",
      "  after removing the cwd from sys.path.\n",
      "C:\\Users\\dmnb4898\\miniconda3\\envs\\Env37\\lib\\site-packages\\ipykernel_launcher.py:4: UserWarning: This pattern has match groups. To actually get the groups, use str.extract.\n",
      "  after removing the cwd from sys.path.\n"
     ]
    }
   ],
   "source": [
    "negate = make_features(raw[['target', 'text_raw']], md, md_col='bkey')"
   ]
  },
  {
   "cell_type": "code",
   "execution_count": 78,
   "metadata": {},
   "outputs": [],
   "source": [
    "data = negate.drop(drp, axis=1)\n",
    "target = negate.target"
   ]
  },
  {
   "cell_type": "code",
   "execution_count": 79,
   "metadata": {},
   "outputs": [
    {
     "name": "stdout",
     "output_type": "stream",
     "text": [
      "Mean accuracy using 5 folds: 0.744\n",
      "Standard deviation using 5 folds: 0.024\n",
      "Percent improvement from baseline: 48.8%\n",
      "Accuracy values: 0.77, 0.76, 0.755, 0.705, 0.73\n"
     ]
    }
   ],
   "source": [
    "# Instantiate model and store it in a new variable.\n",
    "bnb = BernoulliNB()\n",
    "\n",
    "# Checking accueracy with cross validation, folds=5\n",
    "cv = cross_val_score(bnb, data, target, cv=5)\n",
    "print('Mean accuracy using 5 folds: {0}'.format(cv.mean()))\n",
    "print('Standard deviation using 5 folds: {0}'.format(round(cv.std(), ndigits=3)))\n",
    "print('Percent improvement from baseline: {0}%'.format(((cv.mean()-0.5)/0.5)*100))\n",
    "print('Accuracy values: {0}'.format(reduce(lambda x, y: str(x)+', '+str(y), cv)))"
   ]
  },
  {
   "cell_type": "markdown",
   "metadata": {},
   "source": [
    "Making these corrections to our features only results in an average increase of 1.8% in accuracy. As the confusion matrix demonstrates, this model is much better at identifying negative reviews compared to positive reviews. In fact, it doesn't improve much on the baseline for positive reviews, only correctly identifying approximpately 50% of positive reviews correctly."
   ]
  },
  {
   "cell_type": "code",
   "execution_count": 91,
   "metadata": {},
   "outputs": [
    {
     "name": "stdout",
     "output_type": "stream",
     "text": [
      "Sensitivity, positive: 52.4%\n",
      "Sensitivity, negative: 100.0%\n"
     ]
    }
   ],
   "source": [
    "X_train, X_test, y_train, y_test = train_test_split(data, target, test_size=0.2, random_state=20)\n",
    "model = bnb.fit(X_train, y_train)\n",
    "y_pred = model.predict(X_test)\n",
    "confus = pd.crosstab(y_test, y_pred).set_index(pd.Index(['True negative', 'True positive'], name=None))\n",
    "confus.columns = pd.Series(['Predicted negative', 'Predicted positive'], name=None)\n",
    "\n",
    "print('Sensitivity, positive: {0}%'\\\n",
    "      .format(round((confus.loc['True positive', 'Predicted positive']/confus.loc['True positive'].sum())*100, ndigits=1)))\n",
    "print('Sensitivity, negative: {0}%'\\\n",
    "     .format(round((confus.loc['True negative', 'Predicted negative']/confus.loc['True negative'].sum())*100, ndigits=1)))"
   ]
  },
  {
   "cell_type": "markdown",
   "metadata": {},
   "source": [
    "## Model 3: Only Positive-Identifying Features\n",
    "I noticed something odd in my data that I'm not sure how to explain. While the terms flagging positive reviews are more highly correlated with the target, both the simple and negation/stemmed model appear to falsely identify positive reviews as negative than the reverse. One possibility is that the absence of the correlated positive terms is interpretted as a negative review. At te same time, negative messages are indeed much less likely to have these terms, but the words occur relatively infrequently even in truly positive messages."
   ]
  },
  {
   "cell_type": "code",
   "execution_count": 95,
   "metadata": {},
   "outputs": [
    {
     "name": "stdout",
     "output_type": "stream",
     "text": [
      "Mean accuracy using 5 folds: 0.744\n",
      "Standard deviation using 5 folds: 0.024\n",
      "Percent improvement from baseline: 48.8%\n",
      "Accuracy values: 0.77, 0.76, 0.755, 0.705, 0.73\n"
     ]
    },
    {
     "name": "stderr",
     "output_type": "stream",
     "text": [
      "C:\\Users\\dmnb4898\\miniconda3\\envs\\Env37\\lib\\site-packages\\ipykernel_launcher.py:4: UserWarning: This pattern has match groups. To actually get the groups, use str.extract.\n",
      "  after removing the cwd from sys.path.\n",
      "C:\\Users\\dmnb4898\\miniconda3\\envs\\Env37\\lib\\site-packages\\ipykernel_launcher.py:4: UserWarning: This pattern has match groups. To actually get the groups, use str.extract.\n",
      "  after removing the cwd from sys.path.\n",
      "C:\\Users\\dmnb4898\\miniconda3\\envs\\Env37\\lib\\site-packages\\ipykernel_launcher.py:4: UserWarning: This pattern has match groups. To actually get the groups, use str.extract.\n",
      "  after removing the cwd from sys.path.\n",
      "C:\\Users\\dmnb4898\\miniconda3\\envs\\Env37\\lib\\site-packages\\ipykernel_launcher.py:4: UserWarning: This pattern has match groups. To actually get the groups, use str.extract.\n",
      "  after removing the cwd from sys.path.\n"
     ]
    }
   ],
   "source": [
    "new = raw[['text_raw', 'target']]\n",
    "pmd = md.loc[md.positive==1]\n",
    "positive = make_features(new, pmd, 'bkey').drop('text_raw', axis=1)\n",
    "\n",
    "# Instantiate model and store it in a new variable.\n",
    "bnb = BernoulliNB()\n",
    "\n",
    "# Checking accueracy with cross validation, folds=5\n",
    "cvp = cross_val_score(bnb, positive.drop('target', axis=1), positive.target, cv=5)\n",
    "print('Mean accuracy using 5 folds: {0}'.format(cvp.mean()))\n",
    "print('Standard deviation using 5 folds: {0}'.format(round(cvp.std(), ndigits=3)))\n",
    "print('Percent improvement from baseline: {0}%'.format(((cvp.mean()-0.5)/0.5)*100))\n",
    "print('Accuracy values: {0}'.format(reduce(lambda x, y: str(x)+', '+str(y), cvp)))"
   ]
  },
  {
   "cell_type": "code",
   "execution_count": 105,
   "metadata": {},
   "outputs": [
    {
     "name": "stdout",
     "output_type": "stream",
     "text": [
      "Sensitivity, positive: 52.4%\n",
      "Sensitivity, negative: 100.0%\n"
     ]
    },
    {
     "data": {
      "text/html": [
       "<div>\n",
       "<style scoped>\n",
       "    .dataframe tbody tr th:only-of-type {\n",
       "        vertical-align: middle;\n",
       "    }\n",
       "\n",
       "    .dataframe tbody tr th {\n",
       "        vertical-align: top;\n",
       "    }\n",
       "\n",
       "    .dataframe thead th {\n",
       "        text-align: right;\n",
       "    }\n",
       "</style>\n",
       "<table border=\"1\" class=\"dataframe\">\n",
       "  <thead>\n",
       "    <tr style=\"text-align: right;\">\n",
       "      <th></th>\n",
       "      <th>Predicted negative</th>\n",
       "      <th>Predicted positive</th>\n",
       "    </tr>\n",
       "  </thead>\n",
       "  <tbody>\n",
       "    <tr>\n",
       "      <th>True negative</th>\n",
       "      <td>95</td>\n",
       "      <td>0</td>\n",
       "    </tr>\n",
       "    <tr>\n",
       "      <th>True positive</th>\n",
       "      <td>50</td>\n",
       "      <td>55</td>\n",
       "    </tr>\n",
       "  </tbody>\n",
       "</table>\n",
       "</div>"
      ],
      "text/plain": [
       "               Predicted negative  Predicted positive\n",
       "True negative                  95                   0\n",
       "True positive                  50                  55"
      ]
     },
     "execution_count": 105,
     "metadata": {},
     "output_type": "execute_result"
    }
   ],
   "source": [
    "X_train, X_test, y_train, y_test = train_test_split(positive.drop('target', axis=1), positive.target, test_size=0.2, random_state=20)\n",
    "model = bnb.fit(X_train, y_train)\n",
    "y_pred = model.predict(X_test)\n",
    "confus = pd.crosstab(y_test, y_pred).set_index(pd.Index(['True negative', 'True positive'], name=None))\n",
    "confus.columns = pd.Series(['Predicted negative', 'Predicted positive'], name=None)\n",
    "\n",
    "print('Sensitivity, positive: {0}%'\\\n",
    "      .format(round((confus.loc['True positive', 'Predicted positive']/confus.loc['True positive'].sum())*100, ndigits=1)))\n",
    "print('Sensitivity, negative: {0}%'\\\n",
    "     .format(round((confus.loc['True negative', 'Predicted negative']/confus.loc['True negative'].sum())*100, ndigits=1)))\n",
    "\n",
    "confus"
   ]
  },
  {
   "cell_type": "markdown",
   "metadata": {},
   "source": [
    "These values are identical to the results of the overall model. We can conclude from this that the negative features do not improve the accuracy of the model at all. But just for good measure, I'm going to test them anyway."
   ]
  },
  {
   "cell_type": "markdown",
   "metadata": {},
   "source": [
    "## Model 4: Only negative features\n",
    "The average accuracy is 54%, approximately the same as the baseline estimate--or flipping a coin, for that matter. We can conclude that our negative features do not improve our model."
   ]
  },
  {
   "cell_type": "code",
   "execution_count": 99,
   "metadata": {},
   "outputs": [
    {
     "name": "stdout",
     "output_type": "stream",
     "text": [
      "Mean accuracy using 5 folds: 0.542\n",
      "Standard deviation using 5 folds: 0.009\n",
      "Percent improvement from baseline: 8.4%\n",
      "Accuracy values: 0.545, 0.545, 0.555, 0.535, 0.53\n"
     ]
    },
    {
     "name": "stderr",
     "output_type": "stream",
     "text": [
      "C:\\Users\\dmnb4898\\miniconda3\\envs\\Env37\\lib\\site-packages\\ipykernel_launcher.py:4: UserWarning: This pattern has match groups. To actually get the groups, use str.extract.\n",
      "  after removing the cwd from sys.path.\n",
      "C:\\Users\\dmnb4898\\miniconda3\\envs\\Env37\\lib\\site-packages\\ipykernel_launcher.py:4: UserWarning: This pattern has match groups. To actually get the groups, use str.extract.\n",
      "  after removing the cwd from sys.path.\n"
     ]
    }
   ],
   "source": [
    "new = raw[['target', 'text_raw']]\n",
    "nmd = md.loc[md.positive==0]\n",
    "negative = make_features(new, nmd, 'bkey')\n",
    "ntarget = negative.target\n",
    "ndata = negative.drop(['text_raw', 'target'], axis=1)\n",
    "\n",
    "# Instantiate model and store it in a new variable.\n",
    "bnb = BernoulliNB()\n",
    "\n",
    "# Checking accueracy with cross validation, folds=5\n",
    "cvn = cross_val_score(bnb, ndata, ntarget, cv=5)\n",
    "print('Mean accuracy using 5 folds: {0}'.format(cvn.mean()))\n",
    "print('Standard deviation using 5 folds: {0}'.format(round(cvn.std(), ndigits=3)))\n",
    "print('Percent improvement from baseline: {0}%'.format(round(((cvn.mean()-0.5)/0.5)*100, ndigits=1)))\n",
    "print('Accuracy values: {0}'.format(reduce(lambda x, y: str(x)+', '+str(y), cvn)))"
   ]
  },
  {
   "cell_type": "code",
   "execution_count": 104,
   "metadata": {},
   "outputs": [
    {
     "name": "stdout",
     "output_type": "stream",
     "text": [
      "Sensitivity, positive: 99.1%\n",
      "Sensitivity, negative: 8.8%\n"
     ]
    },
    {
     "data": {
      "text/html": [
       "<div>\n",
       "<style scoped>\n",
       "    .dataframe tbody tr th:only-of-type {\n",
       "        vertical-align: middle;\n",
       "    }\n",
       "\n",
       "    .dataframe tbody tr th {\n",
       "        vertical-align: top;\n",
       "    }\n",
       "\n",
       "    .dataframe thead th {\n",
       "        text-align: right;\n",
       "    }\n",
       "</style>\n",
       "<table border=\"1\" class=\"dataframe\">\n",
       "  <thead>\n",
       "    <tr style=\"text-align: right;\">\n",
       "      <th></th>\n",
       "      <th>Predicted negative</th>\n",
       "      <th>Predicted positive</th>\n",
       "    </tr>\n",
       "  </thead>\n",
       "  <tbody>\n",
       "    <tr>\n",
       "      <th>True negative</th>\n",
       "      <td>8</td>\n",
       "      <td>83</td>\n",
       "    </tr>\n",
       "    <tr>\n",
       "      <th>True positive</th>\n",
       "      <td>1</td>\n",
       "      <td>108</td>\n",
       "    </tr>\n",
       "  </tbody>\n",
       "</table>\n",
       "</div>"
      ],
      "text/plain": [
       "               Predicted negative  Predicted positive\n",
       "True negative                   8                  83\n",
       "True positive                   1                 108"
      ]
     },
     "execution_count": 104,
     "metadata": {},
     "output_type": "execute_result"
    }
   ],
   "source": [
    "X_train, X_test, y_train, y_test = train_test_split(ndata, ntarget, test_size=0.2, random_state=5)\n",
    "model = bnb.fit(X_train, y_train)\n",
    "y_pred = model.predict(X_test)\n",
    "confus = pd.crosstab(y_test, y_pred).set_index(pd.Index(['True negative', 'True positive'], name=None))\n",
    "confus.columns = pd.Series(['Predicted negative', 'Predicted positive'], name=None)\n",
    "\n",
    "print('Sensitivity, positive: {0}%'\\\n",
    "      .format(round((confus.loc['True positive', 'Predicted positive']/confus.loc['True positive'].sum())*100, ndigits=1)))\n",
    "print('Sensitivity, negative: {0}%'\\\n",
    "     .format(round((confus.loc['True negative', 'Predicted negative']/confus.loc['True negative'].sum())*100, ndigits=1)))\n",
    "\n",
    "confus"
   ]
  },
  {
   "cell_type": "markdown",
   "metadata": {},
   "source": [
    "## Model 5: Positive-Identifying Features plus Structural Features\n",
    "So far I have only focused on word use. I would also like to look at the following structural features:\n",
    "- *Capitaliztion:* My hypothesis is that more __negative__ reviews contain words in all capitals, or are themselves all capital, than positive reviews.\n",
    "- *Exclamation points:* My hypothesis is that more __positive__ reviews contain exclamation points compared to negative reviews.\n",
    "- *Word count:* I could see this going either way. I'm curious to see if this separates negative and positive reviews with any reliability.\n",
    "\n",
    "### Create structural features"
   ]
  },
  {
   "cell_type": "code",
   "execution_count": 132,
   "metadata": {},
   "outputs": [],
   "source": [
    "import re\n",
    "from string import punctuation as pnct\n",
    "\n",
    "spattern = re.compile(r'\\s+')\n",
    "ppattern = re.compile(r'[{0}]'.format(pnct))\n",
    "\n",
    "discount = ['I', 'US', 'USB', 'LG', 'Q', 'PDA', 'VX', 'SIM']"
   ]
  },
  {
   "cell_type": "code",
   "execution_count": 154,
   "metadata": {},
   "outputs": [],
   "source": [
    "m5 = raw[['text_raw', 'target']]\n",
    "\n",
    "# Strip punctuation and split words\n",
    "m5['words'] = raw.text_raw.str.replace('[{0}]'.format(pnct), '').apply(lambda x: spattern.split(x))\n",
    "\n",
    "# For capitalization:\n",
    "# 1) Filter out words to discount (in 'discount' list)\n",
    "# 2) Set to true if filtered list length > 0\n",
    "m5['any_upper'] = m5.words.apply(lambda x:\n",
    "                                 list(filter(lambda y: y.isupper(), x)))\\\n",
    "        .apply(lambda x: len([y for y in x if y not in discount])>0)\n",
    "\n",
    "# Find exclamation points\n",
    "m5['exclaim'] = raw.text_raw.str.contains('!')\n",
    "\n",
    "# Calculate word count\n",
    "m5.loc[:, 'words'] = m5.words.apply(lambda x: len(x))"
   ]
  },
  {
   "cell_type": "markdown",
   "metadata": {},
   "source": [
    "### Explore relationship between new features and target\n",
    "#### Capitalized words\n",
    "There is a very slight increase the number of negative reviews that contain capitalized words compared to positive reviews. I doubt this would be sufficient to make a difference in the model, but we'll see. A total difference of nine records, or 0.9% of records, separates negative from positive reviews with respect to capitalization."
   ]
  },
  {
   "cell_type": "code",
   "execution_count": 180,
   "metadata": {},
   "outputs": [
    {
     "data": {
      "text/html": [
       "<div>\n",
       "<style scoped>\n",
       "    .dataframe tbody tr th:only-of-type {\n",
       "        vertical-align: middle;\n",
       "    }\n",
       "\n",
       "    .dataframe tbody tr th {\n",
       "        vertical-align: top;\n",
       "    }\n",
       "\n",
       "    .dataframe thead th {\n",
       "        text-align: right;\n",
       "    }\n",
       "</style>\n",
       "<table border=\"1\" class=\"dataframe\">\n",
       "  <thead>\n",
       "    <tr style=\"text-align: right;\">\n",
       "      <th>target</th>\n",
       "      <th>Negative</th>\n",
       "      <th>Positive</th>\n",
       "    </tr>\n",
       "  </thead>\n",
       "  <tbody>\n",
       "    <tr>\n",
       "      <th>No uppercase</th>\n",
       "      <td>448</td>\n",
       "      <td>457</td>\n",
       "    </tr>\n",
       "    <tr>\n",
       "      <th>1+ uppercase words</th>\n",
       "      <td>52</td>\n",
       "      <td>43</td>\n",
       "    </tr>\n",
       "  </tbody>\n",
       "</table>\n",
       "</div>"
      ],
      "text/plain": [
       "target              Negative  Positive\n",
       "No uppercase             448       457\n",
       "1+ uppercase words        52        43"
      ]
     },
     "execution_count": 180,
     "metadata": {},
     "output_type": "execute_result"
    }
   ],
   "source": [
    "up = pd.crosstab(m5.any_upper, m5.target)\\\n",
    "    .set_index(pd.Index(['No uppercase', '1+ uppercase words'], name=None))\\\n",
    "    .rename(pd.Series(['Negative', 'Positive']), axis=1)\n",
    "up"
   ]
  },
  {
   "cell_type": "markdown",
   "metadata": {},
   "source": [
    "#### Exclamation points\n",
    "There is a slightly stronger correlation for exclamation points compared to capitalized words. The difference between the number of positive reviews containing exclamation points compared to the negative reviews containing exclamation points is 4% of the total records compared to the <1% we saw with capitalized words."
   ]
  },
  {
   "cell_type": "code",
   "execution_count": 175,
   "metadata": {},
   "outputs": [
    {
     "data": {
      "text/html": [
       "<div>\n",
       "<style scoped>\n",
       "    .dataframe tbody tr th:only-of-type {\n",
       "        vertical-align: middle;\n",
       "    }\n",
       "\n",
       "    .dataframe tbody tr th {\n",
       "        vertical-align: top;\n",
       "    }\n",
       "\n",
       "    .dataframe thead th {\n",
       "        text-align: right;\n",
       "    }\n",
       "</style>\n",
       "<table border=\"1\" class=\"dataframe\">\n",
       "  <thead>\n",
       "    <tr style=\"text-align: right;\">\n",
       "      <th>target</th>\n",
       "      <th>Negative</th>\n",
       "      <th>Positive</th>\n",
       "    </tr>\n",
       "  </thead>\n",
       "  <tbody>\n",
       "    <tr>\n",
       "      <th>No exclamation points</th>\n",
       "      <td>463</td>\n",
       "      <td>422</td>\n",
       "    </tr>\n",
       "    <tr>\n",
       "      <th>&gt;=1 exclamation point</th>\n",
       "      <td>37</td>\n",
       "      <td>78</td>\n",
       "    </tr>\n",
       "  </tbody>\n",
       "</table>\n",
       "</div>"
      ],
      "text/plain": [
       "target                 Negative  Positive\n",
       "No exclamation points       463       422\n",
       ">=1 exclamation point        37        78"
      ]
     },
     "execution_count": 175,
     "metadata": {},
     "output_type": "execute_result"
    }
   ],
   "source": [
    "exc = pd.crosstab(m5.exclaim, m5.target)\\\n",
    "    .set_index(pd.Index(['No exclamation points', '>=1 exclamation point'], name=None))\\\n",
    "    .rename(pd.Series(['Negative', 'Positive'], name=None), axis=1)\n",
    "\n",
    "exc"
   ]
  },
  {
   "cell_type": "markdown",
   "metadata": {},
   "source": [
    "#### Number of words per review"
   ]
  },
  {
   "cell_type": "code",
   "execution_count": 199,
   "metadata": {},
   "outputs": [
    {
     "data": {
      "text/html": [
       "<div>\n",
       "<style scoped>\n",
       "    .dataframe tbody tr th:only-of-type {\n",
       "        vertical-align: middle;\n",
       "    }\n",
       "\n",
       "    .dataframe tbody tr th {\n",
       "        vertical-align: top;\n",
       "    }\n",
       "\n",
       "    .dataframe thead th {\n",
       "        text-align: right;\n",
       "    }\n",
       "</style>\n",
       "<table border=\"1\" class=\"dataframe\">\n",
       "  <thead>\n",
       "    <tr style=\"text-align: right;\">\n",
       "      <th></th>\n",
       "      <th>words</th>\n",
       "    </tr>\n",
       "  </thead>\n",
       "  <tbody>\n",
       "    <tr>\n",
       "      <th>Negative</th>\n",
       "      <td>10</td>\n",
       "    </tr>\n",
       "    <tr>\n",
       "      <th>Positive</th>\n",
       "      <td>8</td>\n",
       "    </tr>\n",
       "  </tbody>\n",
       "</table>\n",
       "</div>"
      ],
      "text/plain": [
       "          words\n",
       "Negative     10\n",
       "Positive      8"
      ]
     },
     "execution_count": 199,
     "metadata": {},
     "output_type": "execute_result"
    }
   ],
   "source": [
    "m5[['words', 'target']].groupby('target').median()\\\n",
    "    .set_index(pd.Index(['Negative', 'Positive'], name=None))"
   ]
  },
  {
   "cell_type": "markdown",
   "metadata": {},
   "source": [
    "Since only the presence of an exclamation point appears to correlate in any significant way with the target, that is the only new feature that will be added to the fifth and final model.\n",
    "\n",
    "### Modeling"
   ]
  },
  {
   "cell_type": "code",
   "execution_count": 201,
   "metadata": {},
   "outputs": [
    {
     "name": "stdout",
     "output_type": "stream",
     "text": [
      "Mean accuracy using 5 folds: 0.734\n",
      "Standard deviation using 5 folds: 0.029\n",
      "Percent improvement from baseline: 46.8%\n",
      "Accuracy values: 0.77, 0.75, 0.75, 0.695, 0.705\n"
     ]
    },
    {
     "name": "stderr",
     "output_type": "stream",
     "text": [
      "C:\\Users\\dmnb4898\\miniconda3\\envs\\Env37\\lib\\site-packages\\ipykernel_launcher.py:4: UserWarning: This pattern has match groups. To actually get the groups, use str.extract.\n",
      "  after removing the cwd from sys.path.\n",
      "C:\\Users\\dmnb4898\\miniconda3\\envs\\Env37\\lib\\site-packages\\ipykernel_launcher.py:4: UserWarning: This pattern has match groups. To actually get the groups, use str.extract.\n",
      "  after removing the cwd from sys.path.\n",
      "C:\\Users\\dmnb4898\\miniconda3\\envs\\Env37\\lib\\site-packages\\ipykernel_launcher.py:4: UserWarning: This pattern has match groups. To actually get the groups, use str.extract.\n",
      "  after removing the cwd from sys.path.\n",
      "C:\\Users\\dmnb4898\\miniconda3\\envs\\Env37\\lib\\site-packages\\ipykernel_launcher.py:4: UserWarning: This pattern has match groups. To actually get the groups, use str.extract.\n",
      "  after removing the cwd from sys.path.\n"
     ]
    }
   ],
   "source": [
    "pmd = md.loc[md.positive==1]\n",
    "\n",
    "m5_pos = make_features(m5.drop(['words', 'any_upper'], axis=1), pmd, 'bkey')\n",
    "target5 = m5_pos.target\n",
    "data5 = m5_pos.drop(['text_raw', 'target'], axis=1)\n",
    "\n",
    "# Instantiate model and store it in a new variable.\n",
    "bnb = BernoulliNB()\n",
    "\n",
    "# Checking accueracy with cross validation, folds=5\n",
    "cv5 = cross_val_score(bnb, data5, target5, cv=5)\n",
    "print('Mean accuracy using 5 folds: {0}'.format(cv5.mean()))\n",
    "print('Standard deviation using 5 folds: {0}'.format(round(cv5.std(), ndigits=3)))\n",
    "print('Percent improvement from baseline: {0}%'.format(round(((cv5.mean()-0.5)/0.5)*100, ndigits=1)))\n",
    "print('Accuracy values: {0}'.format(reduce(lambda x, y: str(x)+', '+str(y), cv5)))"
   ]
  },
  {
   "cell_type": "code",
   "execution_count": 202,
   "metadata": {},
   "outputs": [
    {
     "name": "stdout",
     "output_type": "stream",
     "text": [
      "Sensitivity, positive: 56.0%\n",
      "Sensitivity, negative: 89.0%\n"
     ]
    },
    {
     "data": {
      "text/html": [
       "<div>\n",
       "<style scoped>\n",
       "    .dataframe tbody tr th:only-of-type {\n",
       "        vertical-align: middle;\n",
       "    }\n",
       "\n",
       "    .dataframe tbody tr th {\n",
       "        vertical-align: top;\n",
       "    }\n",
       "\n",
       "    .dataframe thead th {\n",
       "        text-align: right;\n",
       "    }\n",
       "</style>\n",
       "<table border=\"1\" class=\"dataframe\">\n",
       "  <thead>\n",
       "    <tr style=\"text-align: right;\">\n",
       "      <th></th>\n",
       "      <th>Predicted negative</th>\n",
       "      <th>Predicted positive</th>\n",
       "    </tr>\n",
       "  </thead>\n",
       "  <tbody>\n",
       "    <tr>\n",
       "      <th>True negative</th>\n",
       "      <td>81</td>\n",
       "      <td>10</td>\n",
       "    </tr>\n",
       "    <tr>\n",
       "      <th>True positive</th>\n",
       "      <td>48</td>\n",
       "      <td>61</td>\n",
       "    </tr>\n",
       "  </tbody>\n",
       "</table>\n",
       "</div>"
      ],
      "text/plain": [
       "               Predicted negative  Predicted positive\n",
       "True negative                  81                  10\n",
       "True positive                  48                  61"
      ]
     },
     "execution_count": 202,
     "metadata": {},
     "output_type": "execute_result"
    }
   ],
   "source": [
    "X_train, X_test, y_train, y_test = train_test_split(data5, target5, test_size=0.2, random_state=5)\n",
    "model = bnb.fit(X_train, y_train)\n",
    "y_pred = model.predict(X_test)\n",
    "confus = pd.crosstab(y_test, y_pred).set_index(pd.Index(['True negative', 'True positive'], name=None))\n",
    "confus.columns = pd.Series(['Predicted negative', 'Predicted positive'], name=None)\n",
    "\n",
    "print('Sensitivity, positive: {0}%'\\\n",
    "      .format(round((confus.loc['True positive', 'Predicted positive']/confus.loc['True positive'].sum())*100, ndigits=1)))\n",
    "print('Sensitivity, negative: {0}%'\\\n",
    "     .format(round((confus.loc['True negative', 'Predicted negative']/confus.loc['True negative'].sum())*100, ndigits=1)))\n",
    "\n",
    "confus"
   ]
  },
  {
   "cell_type": "markdown",
   "metadata": {},
   "source": [
    "## Conclusion\n",
    "From an overall accuracy perspective, Model 3 displayed the best performance. However, Model 5 displayed the highest positive review sensititivity. Granted, 56% isn't great, but it's slightly better than the flat 50 - 52% positive sensitivity in the other models. The challenge seems to be that the negative reviews tend to be more specific to the product. Consequently, there are fewer word use trends."
   ]
  }
 ],
 "metadata": {
  "kernelspec": {
   "display_name": "Python 3",
   "language": "python",
   "name": "python3"
  },
  "language_info": {
   "codemirror_mode": {
    "name": "ipython",
    "version": 3
   },
   "file_extension": ".py",
   "mimetype": "text/x-python",
   "name": "python",
   "nbconvert_exporter": "python",
   "pygments_lexer": "ipython3",
   "version": "3.7.2"
  }
 },
 "nbformat": 4,
 "nbformat_minor": 2
}
