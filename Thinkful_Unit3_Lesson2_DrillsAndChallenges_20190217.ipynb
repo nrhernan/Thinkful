{
 "cells": [
  {
   "cell_type": "markdown",
   "metadata": {},
   "source": [
    "## Excercises in Probability"
   ]
  },
  {
   "cell_type": "markdown",
   "metadata": {},
   "source": [
    "### Question 1: Calculate the probability of flipping a balanced coin four times and getting each pattern: HTTH, HHHH and TTHH.\n",
    "\n",
    "The probability will be exactly the same for all four combinations. Any specific outcome (i.e., specifying EITHER heads OR tails) to a coin toss has a probability of 0.5. Since the question is about the intersection of four coin tosses, the probability for each set of four coin tosses yielding a specified value is (0.5)^4 or 0.0625."
   ]
  },
  {
   "cell_type": "markdown",
   "metadata": {},
   "source": [
    "### Question 2: If a list of people has 24 women and 21 men, then the probability of choosing a man from the list is 21/45. What is the probability of not choosing a man?\n",
    "I assume this question is asking about the probability of a selection given replacement, or else of a first selection without replacement, in which event the answer is 24/45 or 1-21/25. The probability of not selecting a man given not replacement would be contingent on the number of men and women selected prior to the selection of interest."
   ]
  },
  {
   "cell_type": "markdown",
   "metadata": {},
   "source": [
    "### Question 3: The probability that Bernice will travel by plane sometime in the next year is 10%. The probability of a plane crash at any time is .005%. What is the probability that Bernice will be in a plane crash sometime in the next year?\n",
    "Like question 1, this question is asking about the intersection of two events:\n",
    "<ul>\n",
    "    <li>Berncie flying; and</li>\n",
    "    <li>That particular plane crashing.</li>\n",
    "</ul>\n",
    "<p>We can probably assume that the probabilities of these events occurring are independent, in which event the total probability that Berenice will be involved in a plane crash sometime in the next year is (0.1)*(0.00005), or 0.0005%.</p>"
   ]
  },
  {
   "cell_type": "markdown",
   "metadata": {},
   "source": [
    "### Question 4: A data scientist wants to study the behavior of users on the company website. Each time a user clicks on a link on the website, there is a 5% chance that the user will be asked to complete a short survey about their behavior on the website. The data scientist uses the survey data to conclude that, on average, users spend 15 minutes surfing the company website before moving on to other things. What is wrong with this conclusion?\n",
    "There are two potential flaws with using survey data to draw conclusions about overall user behavior. The first is that users are offered a choice about whether or not to take the survey, which introduces the possibility for self-segregation and bias to enter the sample. It is possible that individuals who opt to take ths survey spend ~15 min on the website before moving on, while individuals who opt out of the survey exhibit wildly different browsing patterns. A better method might include invisible trackers that can log user behavior without requiring anyone to take time to complete a survey."
   ]
  }
 ],
 "metadata": {
  "kernelspec": {
   "display_name": "Python 3",
   "language": "python",
   "name": "python3"
  },
  "language_info": {
   "codemirror_mode": {
    "name": "ipython",
    "version": 3
   },
   "file_extension": ".py",
   "mimetype": "text/x-python",
   "name": "python",
   "nbconvert_exporter": "python",
   "pygments_lexer": "ipython3",
   "version": "3.7.2"
  }
 },
 "nbformat": 4,
 "nbformat_minor": 2
}
