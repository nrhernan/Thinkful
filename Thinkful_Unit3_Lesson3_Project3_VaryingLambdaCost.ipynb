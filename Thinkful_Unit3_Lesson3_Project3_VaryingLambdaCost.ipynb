{
 "cells": [
  {
   "cell_type": "code",
   "execution_count": 4,
   "metadata": {},
   "outputs": [],
   "source": [
    "import numpy as np\n",
    "import pandas as pd\n",
    "import matplotlib.pyplot as plt\n",
    "import seaborn as sns\n",
    "from sklearn import preprocessing"
   ]
  },
  {
   "cell_type": "code",
   "execution_count": 5,
   "metadata": {},
   "outputs": [],
   "source": [
    "# Load the data again. Keep air quality data, drop the index column\n",
    "# and any missing data columns.\n",
    "df = pd.read_csv(\n",
    "    'https://tf-assets-prod.s3.amazonaws.com/tf-curric/data-science/credit-card-defaults.csv'\n",
    ").iloc[:,1:].dropna()\n",
    "\n",
    "# Recode strings to numeric.\n",
    "df['default'] = np.where(df['default']=='Yes', 1, 0)\n",
    "df['student'] = np.where(df['student']=='Yes', 1, 0)\n",
    "names = df.columns\n",
    "df = pd.DataFrame(preprocessing.scale(df), columns=names)\n",
    "\n",
    "# Define the training and test sizes.\n",
    "trainsize = int(df.shape[0] / 2)\n",
    "df_test = df.iloc[trainsize:, :].copy()\n",
    "df_train = df.iloc[:trainsize, :].copy()\n",
    "\n",
    "Y_train = df_train['income'].values.reshape(-1, 1)\n",
    "X_train = df_train.loc[:, ~(df_train.columns).isin(['income'])]\n",
    "\n",
    "# Make some new features to capture potential quadratic and cubic\n",
    "# relationships between solar radiation and day or temperature.\n",
    "df_train['balance_student'] = df_train['balance'] * df_train['student']\n",
    "df_train['balance_default'] = df_train['balance'] * df_train['default']\n",
    "df_train['student_default'] = df_train['student'] * df_train['default']\n",
    "df_train['balance_sqrt'] = (df_train['balance'] + 100) ** .5\n",
    "df_train['balance2'] = (df_train['balance'] + 100) ** 2\n",
    "df_train['balance3'] = (df_train['balance'] + 100) ** 3\n",
    "\n",
    "X_train2 = df_train.loc[:, ~(df_train.columns).isin(['income'])]\n",
    "\n",
    "# Test the simpler model with smaller coefficients.\n",
    "Y_test = df_test['income'].values.reshape(-1, 1)\n",
    "X_test = df_test.loc[:, ~(df_test.columns).isin(['income'])]\n",
    "\n",
    "# Test the more complex model with larger coefficients.\n",
    "df_test['balance_student'] = df_test['balance'] * df_test['student']\n",
    "df_test['balance_default'] = df_test['balance'] * df_test['default']\n",
    "df_test['student_default'] = df_test['student'] * df_test['default']\n",
    "df_test['balance_sqrt'] = (df_test['balance'] + 100) ** .5\n",
    "df_test['balance2'] = (df_test['balance'] + 100) ** 2\n",
    "df_test['balance3'] = (df_test['balance'] + 100) ** 3\n",
    "X_test2 = df_test.loc[:, ~(df_test.columns).isin(['income'])]"
   ]
  },
  {
   "cell_type": "code",
   "execution_count": 14,
   "metadata": {},
   "outputs": [
    {
     "name": "stdout",
     "output_type": "stream",
     "text": [
      "Features in X_train: 3\n",
      "Features in X_train2: 9\n"
     ]
    }
   ],
   "source": [
    "print('Features in X_train: {0}'.format(len(X_train.columns)))\n",
    "print('Features in X_train2: {0}'.format(len(X_train2.columns)))"
   ]
  },
  {
   "cell_type": "markdown",
   "metadata": {},
   "source": [
    "# Testing differnt values lambda"
   ]
  },
  {
   "cell_type": "code",
   "execution_count": 47,
   "metadata": {},
   "outputs": [
    {
     "name": "stderr",
     "output_type": "stream",
     "text": [
      "C:\\Users\\dmnb4898\\miniconda3\\envs\\Env37\\lib\\site-packages\\ipykernel_launcher.py:8: UserWarning: With alpha=0, this algorithm does not converge well. You are advised to use the LinearRegression estimator\n",
      "  \n",
      "C:\\Users\\dmnb4898\\miniconda3\\envs\\Env37\\lib\\site-packages\\sklearn\\linear_model\\coordinate_descent.py:475: UserWarning: Coordinate descent with no regularization may lead to unexpected results and is discouraged.\n",
      "  positive)\n",
      "C:\\Users\\dmnb4898\\miniconda3\\envs\\Env37\\lib\\site-packages\\sklearn\\linear_model\\coordinate_descent.py:475: ConvergenceWarning: Objective did not converge. You might want to increase the number of iterations. Duality gap: 1062.2783551413825, tolerance: 0.4986572060575427\n",
      "  positive)\n"
     ]
    },
    {
     "name": "stdout",
     "output_type": "stream",
     "text": [
      "\n",
      "Model R² for lambda=0:\n",
      "0.5739444483155421\n",
      "Test R² for lambda=0\n",
      "0.5631593020584263\n",
      "Parameter estimates:\n",
      "[-2.06111494e-03 -7.58818422e-01  6.04810006e-02 -3.53546655e-03\n",
      "  9.26788633e-03 -3.79292001e-03  1.76197742e-01 -2.05761745e-04\n",
      " -9.11532536e-07  1.20391468e+00]\n",
      "\n",
      "Model R² for lambda=0.01:\n",
      "0.5737681044618193\n",
      "Test R² for lambda=0.01\n",
      "0.5633389141249676\n",
      "Parameter estimates:\n",
      "[ 0.00000000e+00 -7.49175475e-01  0.00000000e+00 -0.00000000e+00\n",
      "  4.64868670e-03 -0.00000000e+00  0.00000000e+00 -0.00000000e+00\n",
      " -1.45217294e-09 -1.52452354e-03]\n",
      "\n",
      "Model R² for lambda=0.1:\n",
      "0.5630894936716484\n",
      "Test R² for lambda=0.1\n",
      "0.5546727927200348\n",
      "Parameter estimates:\n",
      "[ 0.00000000e+00 -6.54093117e-01  0.00000000e+00 -0.00000000e+00\n",
      "  0.00000000e+00 -0.00000000e+00  0.00000000e+00 -8.12596514e-05\n",
      " -6.65147234e-08  8.78456768e-01]\n",
      "\n",
      "Model R² for lambda=0.5:\n",
      "0.3082496073309633\n",
      "Test R² for lambda=0.5\n",
      "0.3027330888299672\n",
      "Parameter estimates:\n",
      "[ 0.00000000e+00 -2.30499742e-01  0.00000000e+00 -0.00000000e+00\n",
      "  0.00000000e+00 -0.00000000e+00  0.00000000e+00 -1.91693116e-04\n",
      " -2.45208452e-06  4.37132245e+00]\n",
      "\n",
      "Model R² for lambda=1:\n",
      "0.026834134351719777\n",
      "Test R² for lambda=1\n",
      "0.019253331677773544\n",
      "Parameter estimates:\n",
      "[ 0.00000000e+00 -0.00000000e+00  0.00000000e+00 -0.00000000e+00\n",
      "  0.00000000e+00 -0.00000000e+00  0.00000000e+00  0.00000000e+00\n",
      " -5.42632541e-06  5.43049680e+00]\n",
      "\n",
      "Model R² for lambda=5:\n",
      "0.026834107863834555\n",
      "Test R² for lambda=5\n",
      "0.019259112011427493\n",
      "Parameter estimates:\n",
      "[ 0.00000000e+00 -0.00000000e+00  0.00000000e+00 -0.00000000e+00\n",
      "  0.00000000e+00 -0.00000000e+00  0.00000000e+00 -0.00000000e+00\n",
      " -5.42192261e-06  5.42609387e+00]\n",
      "\n",
      "Model R² for lambda=10:\n",
      "0.02683402508919408\n",
      "Test R² for lambda=10\n",
      "0.019266288431180834\n",
      "Parameter estimates:\n",
      "[ 0.00000000e+00 -0.00000000e+00 -0.00000000e+00 -0.00000000e+00\n",
      "  0.00000000e+00 -0.00000000e+00 -0.00000000e+00 -0.00000000e+00\n",
      " -5.41641912e-06  5.42059021e+00]\n"
     ]
    }
   ],
   "source": [
    "from sklearn.linear_model import Lasso\n",
    "from sklearn.model_selection import cross_val_score\n",
    "from itertools import product\n",
    "\n",
    "alphas = (0, 0.01, 0.1, 0.5, 1, 5, 10)\n",
    "for i in alphas:\n",
    "    lassBig = Lasso(alpha=i)\n",
    "    lassBig.fit(X_train2, Y_train)\n",
    "    print('\\nModel R² for lambda={0}:'.format(i))\n",
    "    print(lassBig.score(X_train2, Y_train))\n",
    "    print('Test R² for lambda={0}'.format(i))\n",
    "    print(lassBig.score(X_test2, Y_test))\n",
    "    origparams = np.append(lassBig.coef_, lassBig.intercept_)\n",
    "    print('Parameter estimates:')\n",
    "    print(origparams)"
   ]
  },
  {
   "cell_type": "markdown",
   "metadata": {},
   "source": [
    "# Conclusion\n",
    "It looks like a very small value for lambda is preferable for this particular dataset. In fact, the highest test R2 was achieved with lambda=0."
   ]
  }
 ],
 "metadata": {
  "kernelspec": {
   "display_name": "Python 3",
   "language": "python",
   "name": "python3"
  },
  "language_info": {
   "codemirror_mode": {
    "name": "ipython",
    "version": 3
   },
   "file_extension": ".py",
   "mimetype": "text/x-python",
   "name": "python",
   "nbconvert_exporter": "python",
   "pygments_lexer": "ipython3",
   "version": "3.7.3"
  }
 },
 "nbformat": 4,
 "nbformat_minor": 2
}
