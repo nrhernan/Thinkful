{
 "cells": [
  {
   "cell_type": "code",
   "execution_count": 3,
   "metadata": {},
   "outputs": [],
   "source": [
    "import pandas as pd\n",
    "import numpy as np\n",
    "import matplotlib.pyplot as plt\n",
    "from scipy.stats import ttest_ind\n",
    "%matplotlib inline"
   ]
  },
  {
   "cell_type": "code",
   "execution_count": 25,
   "metadata": {},
   "outputs": [],
   "source": [
    "# Generating normally distributed populations\n",
    "bi = pd.DataFrame()\n",
    "bi[\"pop1\"] = np.random.binomial(10, 0.2, 10000)\n",
    "bi[\"pop2\"] = np.random.binomial(10, 0.5, 10000)"
   ]
  },
  {
   "cell_type": "code",
   "execution_count": 26,
   "metadata": {},
   "outputs": [],
   "source": [
    "# Random sample from normal populations\n",
    "p1_samp = np.random.choice(bi[\"pop1\"], size=100, replace=True)\n",
    "p2_samp = np.random.choice(bi[\"pop2\"], size=100, replace=True)"
   ]
  },
  {
   "cell_type": "code",
   "execution_count": 27,
   "metadata": {},
   "outputs": [
    {
     "name": "stdout",
     "output_type": "stream",
     "text": [
      "Population 1: mean = 1.98, standard deviation = 1.157410903698423\n",
      "Population 2: mean = 5.04, standard deviation = 1.5994999218505765\n"
     ]
    }
   ],
   "source": [
    "# Calculating mean and standard deviation (assuming normal distribution even though they're binomial) \n",
    "p1_mn = p1_samp.mean()\n",
    "p1_std = p1_samp.std()\n",
    "\n",
    "p2_mn = p2_samp.mean()\n",
    "p2_std = p2_samp.std()\n",
    "\n",
    "print(\"Population 1: mean = {}, standard deviation = {}\".format(p1_mn, p1_std))\n",
    "print(\"Population 2: mean = {}, standard deviation = {}\".format(p2_mn, p2_std))"
   ]
  },
  {
   "cell_type": "markdown",
   "metadata": {},
   "source": [
    "### Question 1a: What would happen if the sample size was increased from 100 to 1000?\n",
    "__Mean(s):__ The mean would stay approximately the same since the mean is an unbiased estimator. It's possible, though, that the estimates would be closer to 2 and 5 respectively, given that we could reasonably expect any individual sample of 1000 to have a mean closer to the true mean than a sample of 100. \n",
    "<br><br>\n",
    "__Standard deviation(s):__ The standard deviation for should be smaller because standard deviation is inversely proportional to the square of the sample size and binomial distribution."
   ]
  },
  {
   "cell_type": "code",
   "execution_count": 28,
   "metadata": {},
   "outputs": [],
   "source": [
    "s1_1000 = np.random.choice(bi[\"pop1\"], 1000, replace=True)\n",
    "s2_1000 = np.random.choice(bi[\"pop2\"], 1000, replace=True)"
   ]
  },
  {
   "cell_type": "markdown",
   "metadata": {},
   "source": [
    "### Question 1b: What would happen if the sample size was decreased to 20?\n",
    "__Mean(s):__ The mean might be a little further from the true means for the two populations for reasons discussed above, but it should be still be close to the true population means. Also, there would be an equal probability of the sample mean being higher than the true mean as lower.\n",
    "<br><br>\n",
    "__Standard deviation(s):__ We would expect the standard deviation to increase due to the inverse relationship to sample size."
   ]
  },
  {
   "cell_type": "code",
   "execution_count": 29,
   "metadata": {},
   "outputs": [],
   "source": [
    "s1_mn_1k = s1_1000.mean()\n",
    "s1_std_1k = s1_1000.std()\n",
    "\n",
    "s2_mn_1k = s2_1000.mean()\n",
    "s2_std_1k = s2_1000.std()"
   ]
  },
  {
   "cell_type": "code",
   "execution_count": 30,
   "metadata": {},
   "outputs": [
    {
     "data": {
      "text/html": [
       "<div>\n",
       "<style scoped>\n",
       "    .dataframe tbody tr th:only-of-type {\n",
       "        vertical-align: middle;\n",
       "    }\n",
       "\n",
       "    .dataframe tbody tr th {\n",
       "        vertical-align: top;\n",
       "    }\n",
       "\n",
       "    .dataframe thead th {\n",
       "        text-align: right;\n",
       "    }\n",
       "</style>\n",
       "<table border=\"1\" class=\"dataframe\">\n",
       "  <thead>\n",
       "    <tr style=\"text-align: right;\">\n",
       "      <th></th>\n",
       "      <th>population</th>\n",
       "      <th>p</th>\n",
       "      <th>n</th>\n",
       "      <th>mean</th>\n",
       "      <th>std</th>\n",
       "    </tr>\n",
       "  </thead>\n",
       "  <tbody>\n",
       "    <tr>\n",
       "      <th>0</th>\n",
       "      <td>1</td>\n",
       "      <td>0.2</td>\n",
       "      <td>100</td>\n",
       "      <td>1.980</td>\n",
       "      <td>1.157411</td>\n",
       "    </tr>\n",
       "    <tr>\n",
       "      <th>1</th>\n",
       "      <td>2</td>\n",
       "      <td>0.5</td>\n",
       "      <td>100</td>\n",
       "      <td>5.040</td>\n",
       "      <td>1.599500</td>\n",
       "    </tr>\n",
       "    <tr>\n",
       "      <th>2</th>\n",
       "      <td>1</td>\n",
       "      <td>0.2</td>\n",
       "      <td>1000</td>\n",
       "      <td>1.917</td>\n",
       "      <td>1.267324</td>\n",
       "    </tr>\n",
       "    <tr>\n",
       "      <th>3</th>\n",
       "      <td>2</td>\n",
       "      <td>0.5</td>\n",
       "      <td>1000</td>\n",
       "      <td>5.031</td>\n",
       "      <td>1.598762</td>\n",
       "    </tr>\n",
       "  </tbody>\n",
       "</table>\n",
       "</div>"
      ],
      "text/plain": [
       "   population    p     n   mean       std\n",
       "0           1  0.2   100  1.980  1.157411\n",
       "1           2  0.5   100  5.040  1.599500\n",
       "2           1  0.2  1000  1.917  1.267324\n",
       "3           2  0.5  1000  5.031  1.598762"
      ]
     },
     "execution_count": 30,
     "metadata": {},
     "output_type": "execute_result"
    }
   ],
   "source": [
    "summ = pd.DataFrame()\n",
    "summ[\"population\"] = [1,2,1,2]\n",
    "summ[\"p\"] = [0.2, 0.5, 0.2, 0.5]\n",
    "summ[\"n\"] = [100, 100, 1000, 1000]\n",
    "summ[\"mean\"] = [p1_mn, p2_mn, s1_mn_1k, s2_mn_1k]\n",
    "summ[\"std\"] = [p1_std, p2_std, s1_std_1k, s2_std_1k]\n",
    "\n",
    "summ"
   ]
  },
  {
   "cell_type": "markdown",
   "metadata": {},
   "source": [
    "### Question 2: What do you expect when you take the t-test for population 1 (p=0.2) and populations 3 (p=0.3) and 4 (p=0.4)?\n",
    "Assumptions:\n",
    "<ul><li>The t-test will be conducted between a sample from population 1 and a sample from population 2; and</li>\n",
    "    <li>Sample size will be n=100 for all populations.</li></ul>\n",
    "I would expect that the t-test will result in a lower p-value (where p is a measure of statistical significance, not a parameter for the binomial distribution) for population 4 (p parameter = 0.4) than for population 3 (p parameter = 0.3) because it is further away from population 1's p parameter of 0.2."
   ]
  },
  {
   "cell_type": "code",
   "execution_count": 38,
   "metadata": {},
   "outputs": [],
   "source": [
    "bi[\"pop3\"] = np.random.binomial(10, 0.3, 10000)\n",
    "bi[\"pop4\"] = np.random.binomial(10, 0.4, 10000)"
   ]
  },
  {
   "cell_type": "code",
   "execution_count": 57,
   "metadata": {},
   "outputs": [
    {
     "data": {
      "image/png": "[encoded data removed]",
      "text/plain": [
       "<Figure size 720x360 with 1 Axes>"
      ]
     },
     "metadata": {
      "needs_background": "light"
     },
     "output_type": "display_data"
    }
   ],
   "source": [
    "fig, axes = plt.subplots(2,2)"
   ]
  },
  {
   "cell_type": "code",
   "execution_count": 60,
   "metadata": {},
   "outputs": [],
   "source": [
    "s3_100 = np.random.choice(bi[\"pop3\"], 100, replace=True)\n",
    "s4_100 = np.random.choice(bi[\"pop4\"], 100, replace=True)"
   ]
  },
  {
   "cell_type": "code",
   "execution_count": 69,
   "metadata": {},
   "outputs": [
    {
     "name": "stdout",
     "output_type": "stream",
     "text": [
      "p1 and p3: Ttest_indResult(statistic=-4.556928836344394, pvalue=9.070076221829456e-06)\n",
      "p1 and p4: Ttest_indResult(statistic=-11.173017691041407, pvalue=8.641667653119106e-23)\n"
     ]
    }
   ],
   "source": [
    "t_13 = ttest_ind(p1_samp, s3_100)\n",
    "t_14 = ttest_ind(p1_samp, s4_100)\n",
    "\n",
    "print(\"p1 and p3: {}\".format(t_13))\n",
    "print(\"p1 and p4: {}\".format(t_14))"
   ]
  },
  {
   "cell_type": "code",
   "execution_count": 74,
   "metadata": {},
   "outputs": [],
   "source": [
    "pois = pd.Series(np.random.poisson(2, 10000))\n",
    "pois_100 = np.random.choice(pois, 100)"
   ]
  },
  {
   "cell_type": "code",
   "execution_count": 80,
   "metadata": {},
   "outputs": [
    {
     "data": {
      "image/png": "[encoded data removed]",
      "text/plain": [
       "<Figure size 432x288 with 1 Axes>"
      ]
     },
     "metadata": {
      "needs_background": "light"
     },
     "output_type": "display_data"
    }
   ],
   "source": [
    "plt.figure()\n",
    "plt.hist(pois, color='c')\n",
    "plt.axvline(pois.mean(), color='crimson', linewidth=1)\n",
    "plt.axvline(pois.mean() + pois.std(), color='crimson', linewidth=1, linestyle='dashed')\n",
    "plt.axvline(pois.mean() - pois.std(), color='crimson', linewidth=1, linestyle='dashed')\n",
    "plt.title(\"Poisson Distribution, lambda=2\")\n",
    "plt.show()"
   ]
  },
  {
   "cell_type": "markdown",
   "metadata": {},
   "source": [
    "### Mean and Standrd Deviation for Poisson Distribution\n",
    "The mean and standard deviation are not a great estimate for a central tendency or variation because the distribution is right skewed. But the central limit tendency will still hold."
   ]
  }
 ],
 "metadata": {
  "kernelspec": {
   "display_name": "Python 3",
   "language": "python",
   "name": "python3"
  },
  "language_info": {
   "codemirror_mode": {
    "name": "ipython",
    "version": 3
   },
   "file_extension": ".py",
   "mimetype": "text/x-python",
   "name": "python",
   "nbconvert_exporter": "python",
   "pygments_lexer": "ipython3",
   "version": "3.7.2"
  }
 },
 "nbformat": 4,
 "nbformat_minor": 2
}
