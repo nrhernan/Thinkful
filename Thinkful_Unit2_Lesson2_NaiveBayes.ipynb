{
 "cells": [
  {
   "cell_type": "markdown",
   "metadata": {},
   "source": [
    "Title: Thinkful Unit 2 Lesson 2, Naive Bayes\n",
    "<br>Author: Naomi Hernandez\n",
    "<br>Date: 2019-04-19"
   ]
  },
  {
   "cell_type": "code",
   "execution_count": 125,
   "metadata": {},
   "outputs": [],
   "source": [
    "import numpy as np\n",
    "import pandas as pd\n",
    "import matplotlib.pyplot as plt\n",
    "import seaborn as sns\n",
    "import sklearn\n",
    "import scipy\n",
    "import os\n",
    "from glob import glob as glb\n",
    "import re"
   ]
  },
  {
   "cell_type": "code",
   "execution_count": 126,
   "metadata": {},
   "outputs": [],
   "source": [
    "path = \"H:/Documents/Training/Thinkful/sentiment_labelled_sentences/sls\""
   ]
  },
  {
   "cell_type": "code",
   "execution_count": 127,
   "metadata": {},
   "outputs": [],
   "source": [
    "def grep_like(patt, x):\n",
    "    try:\n",
    "        lst = re.findall(patt, x)\n",
    "        if len(lst)>0:\n",
    "            result = lst[0]\n",
    "        else:\n",
    "            result=None\n",
    "        return(result)\n",
    "    \n",
    "    except Exception as e:\n",
    "        print(e)\n",
    "        return(None)\n",
    "    \n",
    "    # re.findall('.*amazon.*', files[0])"
   ]
  },
  {
   "cell_type": "code",
   "execution_count": 128,
   "metadata": {},
   "outputs": [],
   "source": [
    "files = glb('{}/*.txt'.format(path))\n",
    "\n",
    "am = list(filter(lambda x: x!= None, map(lambda x: grep_like('.*amazon.*', x), files)))[0]"
   ]
  },
  {
   "cell_type": "code",
   "execution_count": 129,
   "metadata": {},
   "outputs": [
    {
     "data": {
      "text/html": [
       "<div>\n",
       "<style scoped>\n",
       "    .dataframe tbody tr th:only-of-type {\n",
       "        vertical-align: middle;\n",
       "    }\n",
       "\n",
       "    .dataframe tbody tr th {\n",
       "        vertical-align: top;\n",
       "    }\n",
       "\n",
       "    .dataframe thead th {\n",
       "        text-align: right;\n",
       "    }\n",
       "</style>\n",
       "<table border=\"1\" class=\"dataframe\">\n",
       "  <thead>\n",
       "    <tr style=\"text-align: right;\">\n",
       "      <th></th>\n",
       "      <th>text_raw</th>\n",
       "      <th>target</th>\n",
       "    </tr>\n",
       "  </thead>\n",
       "  <tbody>\n",
       "    <tr>\n",
       "      <th>0</th>\n",
       "      <td>So there is no way for me to plug it in here i...</td>\n",
       "      <td>0</td>\n",
       "    </tr>\n",
       "    <tr>\n",
       "      <th>1</th>\n",
       "      <td>Good case, Excellent value.</td>\n",
       "      <td>1</td>\n",
       "    </tr>\n",
       "    <tr>\n",
       "      <th>2</th>\n",
       "      <td>Great for the jawbone.</td>\n",
       "      <td>1</td>\n",
       "    </tr>\n",
       "    <tr>\n",
       "      <th>3</th>\n",
       "      <td>Tied to charger for conversations lasting more...</td>\n",
       "      <td>0</td>\n",
       "    </tr>\n",
       "    <tr>\n",
       "      <th>4</th>\n",
       "      <td>The mic is great.</td>\n",
       "      <td>1</td>\n",
       "    </tr>\n",
       "  </tbody>\n",
       "</table>\n",
       "</div>"
      ],
      "text/plain": [
       "                                            text_raw  target\n",
       "0  So there is no way for me to plug it in here i...       0\n",
       "1                        Good case, Excellent value.       1\n",
       "2                             Great for the jawbone.       1\n",
       "3  Tied to charger for conversations lasting more...       0\n",
       "4                                  The mic is great.       1"
      ]
     },
     "execution_count": 129,
     "metadata": {},
     "output_type": "execute_result"
    }
   ],
   "source": [
    "raw = pd.read_csv(am, sep='\\t', header=None, names=['text_raw', 'target'])\n",
    "raw.head()"
   ]
  },
  {
   "cell_type": "markdown",
   "metadata": {},
   "source": [
    "#### Word and case-based features"
   ]
  },
  {
   "cell_type": "code",
   "execution_count": 130,
   "metadata": {},
   "outputs": [],
   "source": [
    "# Positive and negative key words\n",
    "neg = [r'no\\s*way', 'fooled', 'mislea?d', 'problem', 'unacceptable', 'hate', 'unusable', 'poor', 'disappoint', 'n[o\\']t *recommend', 'broke', 'flimsy']\n",
    "pos = ['good', 'excellent', '(?<!(not ))great', '(?<!(not ))impressed', '(?<!(not ))recommend', 'love', 'best', 'ideal', 'high', 'well', 'fine', 'happy', 'delight']"
   ]
  },
  {
   "cell_type": "code",
   "execution_count": 131,
   "metadata": {},
   "outputs": [],
   "source": [
    "# Creating dataframe for labels and keywords to generate nicely labeled columns\n",
    "md = pd.DataFrame(columns=['positive', 'keyword', 'bkey'])\n",
    "md.loc[:, 'keyword'] = neg\n",
    "md.loc[:, 'positive'] = 0\n",
    "\n",
    "md = pd.concat([md, pd.DataFrame(pos, columns=['keyword'])], sort=False)\\\n",
    "    .reset_index().drop('index', axis=1)\n",
    "md.loc[md.positive != 0, 'positive'] = 1\n",
    "md.loc[md.keyword.str.contains(r'[\\\\s\\(\\[]'), 'bkey'] = md.keyword.apply(lambda x: r'{0}\\b'.format(x))\n",
    "md.loc[md.bkey.isna(), 'bkey'] = md.keyword.apply(lambda x: r'\\b{0}\\b'.format(x))\n",
    "md.loc[:, 'label'] = md.keyword\n",
    "md.loc[md.keyword.str.contains(r'\\\\s|\\[|\\(|\\?'), 'label'] = ['no_way',\n",
    "                                                             'mislead',\n",
    "                                                             'not_recommend',\n",
    "                                                             'not_great',\n",
    "                                                             'not_impressed',\n",
    "                                                             'not_recommend']"
   ]
  },
  {
   "cell_type": "code",
   "execution_count": 132,
   "metadata": {
    "scrolled": true
   },
   "outputs": [
    {
     "name": "stderr",
     "output_type": "stream",
     "text": [
      "C:\\Users\\dmnb4898\\miniconda3\\envs\\Env37\\lib\\site-packages\\ipykernel_launcher.py:6: UserWarning: This pattern has match groups. To actually get the groups, use str.extract.\n",
      "  \n",
      "C:\\Users\\dmnb4898\\miniconda3\\envs\\Env37\\lib\\site-packages\\ipykernel_launcher.py:6: UserWarning: This pattern has match groups. To actually get the groups, use str.extract.\n",
      "  \n",
      "C:\\Users\\dmnb4898\\miniconda3\\envs\\Env37\\lib\\site-packages\\ipykernel_launcher.py:6: UserWarning: This pattern has match groups. To actually get the groups, use str.extract.\n",
      "  \n"
     ]
    }
   ],
   "source": [
    "# Generate columns\n",
    "\n",
    "for r in md.index:\n",
    "    # Note that we add spaces around the key so that we're getting the word,\n",
    "    # not just pattern matching.\n",
    "    raw[md.loc[r, 'label']] = raw.text_raw.str.contains(md.loc[r, 'bkey'], case=False)\n",
    "    \n",
    "# raw"
   ]
  },
  {
   "cell_type": "code",
   "execution_count": 134,
   "metadata": {},
   "outputs": [],
   "source": [
    "# Coding upper case\n",
    "raw['upper'] = raw.text_raw.str.isupper()"
   ]
  },
  {
   "cell_type": "markdown",
   "metadata": {},
   "source": [
    "#### Calculate number of messages that contain any features\n",
    "Initially, only 20% (n=198) of the 1000 records are flagged with the current features. Once I remembered to ignore case, this increased to a third (n=337)."
   ]
  },
  {
   "cell_type": "code",
   "execution_count": 136,
   "metadata": {},
   "outputs": [
    {
     "name": "stdout",
     "output_type": "stream",
     "text": [
      "337\n"
     ]
    }
   ],
   "source": [
    "sm = raw[pd.Series(raw.columns).iloc[2:]].apply(lambda x: sum(x), axis=1)\n",
    "print(len(sm.loc[sm==1]))"
   ]
  },
  {
   "cell_type": "code",
   "execution_count": 145,
   "metadata": {},
   "outputs": [
    {
     "data": {
      "image/png": "[encoded data removed]",
      "text/plain": [
       "<Figure size 432x288 with 2 Axes>"
      ]
     },
     "metadata": {
      "needs_background": "light"
     },
     "output_type": "display_data"
    },
    {
     "name": "stdout",
     "output_type": "stream",
     "text": [
      "                 target  no_way    fooled  mislead   problem  unacceptable  \\\n",
      "target         1.000000     NaN -0.031686      NaN -0.044278     -0.044833   \n",
      "no_way              NaN     NaN       NaN      NaN       NaN           NaN   \n",
      "fooled        -0.031686     NaN  1.000000      NaN -0.003635     -0.001418   \n",
      "mislead             NaN     NaN       NaN      NaN       NaN           NaN   \n",
      "problem       -0.044278     NaN -0.003635      NaN  1.000000     -0.005143   \n",
      "unacceptable  -0.044833     NaN -0.001418      NaN -0.005143      1.000000   \n",
      "hate          -0.063468     NaN -0.002007      NaN -0.007280     -0.002840   \n",
      "unusable      -0.044833     NaN -0.001418      NaN -0.005143     -0.002006   \n",
      "poor          -0.119339     NaN -0.003774      NaN -0.013689     -0.005340   \n",
      "disappoint    -0.031686     NaN -0.001002      NaN -0.003635     -0.001418   \n",
      "not_recommend  0.122626     NaN -0.004750      NaN -0.017230     -0.006721   \n",
      "broke         -0.089938     NaN -0.002844      NaN -0.010317     -0.004024   \n",
      "flimsy        -0.044833     NaN -0.001418      NaN -0.005143     -0.002006   \n",
      "good           0.183183     NaN -0.008953      NaN -0.032477     -0.012668   \n",
      "excellent      0.154154     NaN -0.005276      NaN -0.019137     -0.007465   \n",
      "not_great      0.298558     NaN -0.010321      NaN -0.037439     -0.014604   \n",
      "not_impressed  0.070853     NaN -0.002245      NaN -0.008144     -0.003177   \n",
      "love           0.142787     NaN -0.004524      NaN -0.016412     -0.006402   \n",
      "best           0.122626     NaN -0.004750      NaN -0.017230     -0.006721   \n",
      "ideal          0.031623     NaN -0.001002      NaN -0.003635     -0.001418   \n",
      "high           0.014114     NaN -0.002245      NaN -0.008144     -0.003177   \n",
      "well           0.136028     NaN -0.006549      NaN -0.023754     -0.009266   \n",
      "fine           0.097044     NaN -0.003635      NaN -0.013185     -0.005143   \n",
      "happy          0.090418     NaN -0.003908      NaN -0.014177     -0.005530   \n",
      "delight             NaN     NaN       NaN      NaN       NaN           NaN   \n",
      "upper         -0.041279     NaN -0.003908      NaN -0.014177     -0.005530   \n",
      "\n",
      "                   hate  unusable      poor  disappoint  ...  not_impressed  \\\n",
      "target        -0.063468 -0.044833 -0.119339   -0.031686  ...       0.070853   \n",
      "no_way              NaN       NaN       NaN         NaN  ...            NaN   \n",
      "fooled        -0.002007 -0.001418 -0.003774   -0.001002  ...      -0.002245   \n",
      "mislead             NaN       NaN       NaN         NaN  ...            NaN   \n",
      "problem       -0.007280 -0.005143 -0.013689   -0.003635  ...      -0.008144   \n",
      "unacceptable  -0.002840 -0.002006 -0.005340   -0.001418  ...      -0.003177   \n",
      "hate           1.000000 -0.002840 -0.007559   -0.002007  ...      -0.004497   \n",
      "unusable      -0.002840  1.000000 -0.005340   -0.001418  ...      -0.003177   \n",
      "poor          -0.007559 -0.005340  1.000000   -0.003774  ...      -0.008455   \n",
      "disappoint    -0.002007 -0.001418 -0.003774    1.000000  ...      -0.002245   \n",
      "not_recommend -0.009514 -0.006721 -0.017890   -0.004750  ...      -0.010643   \n",
      "broke         -0.005697 -0.004024 -0.010712   -0.002844  ...      -0.006372   \n",
      "flimsy        -0.002840 -0.002006 -0.005340   -0.001418  ...      -0.003177   \n",
      "good          -0.017933 -0.012668 -0.033720   -0.008953  ...      -0.020060   \n",
      "excellent     -0.010567 -0.007465 -0.019870   -0.005276  ...      -0.011821   \n",
      "not_great     -0.020673 -0.014604 -0.038872   -0.010321  ...       0.025004   \n",
      "not_impressed -0.004497 -0.003177 -0.008455   -0.002245  ...       1.000000   \n",
      "love          -0.009062 -0.006402 -0.017040   -0.004524  ...      -0.010137   \n",
      "best          -0.009514 -0.006721 -0.017890   -0.004750  ...      -0.010643   \n",
      "ideal         -0.002007 -0.001418 -0.003774   -0.001002  ...      -0.002245   \n",
      "high          -0.004497 -0.003177 -0.008455   -0.002245  ...      -0.005030   \n",
      "well          -0.013117 -0.009266 -0.024664   -0.006549  ...      -0.014672   \n",
      "fine          -0.007280 -0.005143 -0.013689   -0.003635  ...      -0.008144   \n",
      "happy         -0.007828 -0.005530 -0.014720   -0.003908  ...      -0.008757   \n",
      "delight             NaN       NaN       NaN         NaN  ...            NaN   \n",
      "upper         -0.007828 -0.005530 -0.014720   -0.003908  ...      -0.008757   \n",
      "\n",
      "                   love      best     ideal      high      well      fine  \\\n",
      "target         0.142787  0.122626  0.031623  0.014114  0.136028  0.097044   \n",
      "no_way              NaN       NaN       NaN       NaN       NaN       NaN   \n",
      "fooled        -0.004524 -0.004750 -0.001002 -0.002245 -0.006549 -0.003635   \n",
      "mislead             NaN       NaN       NaN       NaN       NaN       NaN   \n",
      "problem       -0.016412 -0.017230 -0.003635 -0.008144 -0.023754 -0.013185   \n",
      "unacceptable  -0.006402 -0.006721 -0.001418 -0.003177 -0.009266 -0.005143   \n",
      "hate          -0.009062 -0.009514 -0.002007 -0.004497 -0.013117 -0.007280   \n",
      "unusable      -0.006402 -0.006721 -0.001418 -0.003177 -0.009266 -0.005143   \n",
      "poor          -0.017040 -0.017890 -0.003774 -0.008455 -0.024664 -0.013689   \n",
      "disappoint    -0.004524 -0.004750 -0.001002 -0.002245 -0.006549 -0.003635   \n",
      "not_recommend -0.021448 -0.022518 -0.004750 -0.010643 -0.031044 -0.017230   \n",
      "broke         -0.012842 -0.013483 -0.002844 -0.006372 -0.018587 -0.010317   \n",
      "flimsy        -0.006402 -0.006721 -0.001418 -0.003177 -0.009266 -0.005143   \n",
      "good           0.014149 -0.016399 -0.008953 -0.020060 -0.000714  0.034975   \n",
      "excellent     -0.023822 -0.025010 -0.005276 -0.011821  0.027752 -0.019137   \n",
      "not_great      0.001893 -0.025784 -0.010321  0.025004 -0.050333 -0.007470   \n",
      "not_impressed -0.010137 -0.010643 -0.002245 -0.005030 -0.014672 -0.008144   \n",
      "love           1.000000 -0.021448 -0.004524 -0.010137 -0.029569 -0.016412   \n",
      "best          -0.021448  1.000000 -0.004750 -0.010643  0.003338 -0.017230   \n",
      "ideal         -0.004524 -0.004750  1.000000 -0.002245 -0.006549 -0.003635   \n",
      "high          -0.010137 -0.010643 -0.002245  1.000000  0.056829  0.117020   \n",
      "well          -0.029569  0.003338 -0.006549  0.056829  1.000000 -0.023754   \n",
      "fine          -0.016412 -0.017230 -0.003635  0.117020 -0.023754  1.000000   \n",
      "happy         -0.017647 -0.018527 -0.003908 -0.008757 -0.025542 -0.014177   \n",
      "delight             NaN       NaN       NaN       NaN       NaN       NaN   \n",
      "upper         -0.017647 -0.018527 -0.003908 -0.008757  0.015948 -0.014177   \n",
      "\n",
      "                  happy  delight     upper  \n",
      "target         0.090418      NaN -0.041279  \n",
      "no_way              NaN      NaN       NaN  \n",
      "fooled        -0.003908      NaN -0.003908  \n",
      "mislead             NaN      NaN       NaN  \n",
      "problem       -0.014177      NaN -0.014177  \n",
      "unacceptable  -0.005530      NaN -0.005530  \n",
      "hate          -0.007828      NaN -0.007828  \n",
      "unusable      -0.005530      NaN -0.005530  \n",
      "poor          -0.014720      NaN -0.014720  \n",
      "disappoint    -0.003908      NaN -0.003908  \n",
      "not_recommend -0.018527      NaN -0.018527  \n",
      "broke         -0.011093      NaN  0.081258  \n",
      "flimsy        -0.005530      NaN -0.005530  \n",
      "good           0.027937      NaN -0.034922  \n",
      "excellent     -0.020578      NaN  0.030181  \n",
      "not_great     -0.040257      NaN -0.040257  \n",
      "not_impressed -0.008757      NaN -0.008757  \n",
      "love          -0.017647      NaN -0.017647  \n",
      "best          -0.018527      NaN -0.018527  \n",
      "ideal         -0.003908      NaN -0.003908  \n",
      "high          -0.008757      NaN -0.008757  \n",
      "well          -0.025542      NaN  0.015948  \n",
      "fine          -0.014177      NaN -0.014177  \n",
      "happy          1.000000      NaN -0.015244  \n",
      "delight             NaN      NaN       NaN  \n",
      "upper         -0.015244      NaN  1.000000  \n",
      "\n",
      "[26 rows x 26 columns]\n"
     ]
    }
   ],
   "source": [
    "fcorr = raw.iloc[1:].corr()\n",
    "sns.heatmap(fcorr.abs(), cmap='bwr', square=True)\n",
    "plt.show()\n",
    "\n",
    "print(fcorr)"
   ]
  },
  {
   "cell_type": "markdown",
   "metadata": {},
   "source": [
    "Three features--no_way, mislead, and delight--appear to be too sparsely populated to detrmine any correlations at all. I therefore excluded them."
   ]
  },
  {
   "cell_type": "code",
   "execution_count": 155,
   "metadata": {},
   "outputs": [],
   "source": [
    "drp = ['no_way', 'mislead', 'delight', 'text_raw', 'target']\n",
    "feat = raw.drop(drp, axis=1).copy()\n",
    "target = raw.target\n",
    "# feat.head()"
   ]
  },
  {
   "cell_type": "markdown",
   "metadata": {},
   "source": [
    "### Modeling\n",
    "My final accuracy is 75%, with 255 items mislabeled. That's...not great."
   ]
  },
  {
   "cell_type": "code",
   "execution_count": 158,
   "metadata": {},
   "outputs": [
    {
     "name": "stdout",
     "output_type": "stream",
     "text": [
      "Number of mislabeled points out of a total 1000 points : 255\n"
     ]
    }
   ],
   "source": [
    "from sklearn.naive_bayes import BernoulliNB\n",
    "\n",
    "# Instantiate model and store it in a new variable.\n",
    "bnb = BernoulliNB()\n",
    "\n",
    "# Fit our model to the data.\n",
    "bnb.fit(feat, target)\n",
    "\n",
    "# Classify, storing the result in a new variable.\n",
    "y_pred = bnb.predict(feat)\n",
    "\n",
    "# Display our results.\n",
    "print(\"Number of mislabeled points out of a total {} points : {}\".format(\n",
    "    feat.shape[0],\n",
    "    (target != y_pred).sum()\n",
    "))"
   ]
  },
  {
   "cell_type": "markdown",
   "metadata": {},
   "source": [
    "## Part 2: Using with a new dataset"
   ]
  },
  {
   "cell_type": "code",
   "execution_count": 176,
   "metadata": {},
   "outputs": [
    {
     "data": {
      "text/html": [
       "<div>\n",
       "<style scoped>\n",
       "    .dataframe tbody tr th:only-of-type {\n",
       "        vertical-align: middle;\n",
       "    }\n",
       "\n",
       "    .dataframe tbody tr th {\n",
       "        vertical-align: top;\n",
       "    }\n",
       "\n",
       "    .dataframe thead th {\n",
       "        text-align: right;\n",
       "    }\n",
       "</style>\n",
       "<table border=\"1\" class=\"dataframe\">\n",
       "  <thead>\n",
       "    <tr style=\"text-align: right;\">\n",
       "      <th></th>\n",
       "      <th>text_raw</th>\n",
       "      <th>target</th>\n",
       "    </tr>\n",
       "  </thead>\n",
       "  <tbody>\n",
       "    <tr>\n",
       "      <th>0</th>\n",
       "      <td>Wow... Loved this place.</td>\n",
       "      <td>1</td>\n",
       "    </tr>\n",
       "    <tr>\n",
       "      <th>1</th>\n",
       "      <td>Crust is not good.</td>\n",
       "      <td>0</td>\n",
       "    </tr>\n",
       "    <tr>\n",
       "      <th>2</th>\n",
       "      <td>Not tasty and the texture was just nasty.</td>\n",
       "      <td>0</td>\n",
       "    </tr>\n",
       "    <tr>\n",
       "      <th>3</th>\n",
       "      <td>Stopped by during the late May bank holiday of...</td>\n",
       "      <td>1</td>\n",
       "    </tr>\n",
       "    <tr>\n",
       "      <th>4</th>\n",
       "      <td>The selection on the menu was great and so wer...</td>\n",
       "      <td>1</td>\n",
       "    </tr>\n",
       "  </tbody>\n",
       "</table>\n",
       "</div>"
      ],
      "text/plain": [
       "                                            text_raw  target\n",
       "0                           Wow... Loved this place.       1\n",
       "1                                 Crust is not good.       0\n",
       "2          Not tasty and the texture was just nasty.       0\n",
       "3  Stopped by during the late May bank holiday of...       1\n",
       "4  The selection on the menu was great and so wer...       1"
      ]
     },
     "execution_count": 176,
     "metadata": {},
     "output_type": "execute_result"
    }
   ],
   "source": [
    "nd = pd.read_csv(files[3], header=None, names=['text_raw', 'target'], sep='\\t')\n",
    "nd.head()"
   ]
  },
  {
   "cell_type": "markdown",
   "metadata": {},
   "source": [
    "### Feature creation"
   ]
  },
  {
   "cell_type": "code",
   "execution_count": 177,
   "metadata": {},
   "outputs": [
    {
     "name": "stderr",
     "output_type": "stream",
     "text": [
      "C:\\Users\\dmnb4898\\miniconda3\\envs\\Env37\\lib\\site-packages\\ipykernel_launcher.py:4: UserWarning: This pattern has match groups. To actually get the groups, use str.extract.\n",
      "  after removing the cwd from sys.path.\n",
      "C:\\Users\\dmnb4898\\miniconda3\\envs\\Env37\\lib\\site-packages\\ipykernel_launcher.py:4: UserWarning: This pattern has match groups. To actually get the groups, use str.extract.\n",
      "  after removing the cwd from sys.path.\n",
      "C:\\Users\\dmnb4898\\miniconda3\\envs\\Env37\\lib\\site-packages\\ipykernel_launcher.py:4: UserWarning: This pattern has match groups. To actually get the groups, use str.extract.\n",
      "  after removing the cwd from sys.path.\n"
     ]
    }
   ],
   "source": [
    "for r in md.index:\n",
    "    # Note that we add spaces around the key so that we're getting the word,\n",
    "    # not just pattern matching.\n",
    "    nd[md.loc[r, 'label']] = nd.text_raw.str.contains(md.loc[r, 'bkey'], case=False)"
   ]
  },
  {
   "cell_type": "code",
   "execution_count": 178,
   "metadata": {},
   "outputs": [],
   "source": [
    "nd['upper'] = nd.text_raw.str.isupper()"
   ]
  },
  {
   "cell_type": "code",
   "execution_count": 181,
   "metadata": {},
   "outputs": [],
   "source": [
    "data = nd.drop(drp, axis=1)\n",
    "target = nd.target"
   ]
  },
  {
   "cell_type": "code",
   "execution_count": 182,
   "metadata": {},
   "outputs": [
    {
     "name": "stdout",
     "output_type": "stream",
     "text": [
      "Number of mislabeled points out of a total 1000 points : 481\n"
     ]
    }
   ],
   "source": [
    "# Instantiate model and store it in a new variable.\n",
    "bnb = BernoulliNB()\n",
    "\n",
    "# Fit our model to the data.\n",
    "bnb.fit(data, target)\n",
    "\n",
    "# Classify, storing the result in a new variable.\n",
    "y_pred = bnb.predict(feat)\n",
    "\n",
    "# Display our results.\n",
    "print(\"Number of mislabeled points out of a total {} points : {}\".format(\n",
    "    data.shape[0],\n",
    "    (target != y_pred).sum()\n",
    "))"
   ]
  },
  {
   "cell_type": "markdown",
   "metadata": {},
   "source": [
    "Using the Amazon model on the Yelp dataset gave us an accuracy of 52%. In other words, we could have tossed a coin and ended up with approximately the same results. It looks like NLP is specific to the problem at hand."
   ]
  }
 ],
 "metadata": {
  "kernelspec": {
   "display_name": "Python 3",
   "language": "python",
   "name": "python3"
  },
  "language_info": {
   "codemirror_mode": {
    "name": "ipython",
    "version": 3
   },
   "file_extension": ".py",
   "mimetype": "text/x-python",
   "name": "python",
   "nbconvert_exporter": "python",
   "pygments_lexer": "ipython3",
   "version": "3.7.2"
  }
 },
 "nbformat": 4,
 "nbformat_minor": 2
}
